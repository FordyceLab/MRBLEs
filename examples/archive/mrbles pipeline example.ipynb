{
 "cells": [
  {
   "cell_type": "markdown",
   "metadata": {},
   "source": [
    "# mrbles pipeline example"
   ]
  },
  {
   "cell_type": "markdown",
   "metadata": {},
   "source": [
    "## Load necessary modules"
   ]
  },
  {
   "cell_type": "code",
   "execution_count": 3,
   "metadata": {},
   "outputs": [
    {
     "data": {
      "text/html": [
       "<script type=\"text/javascript\">window.PlotlyConfig = {MathJaxConfig: 'local'};</script><script type=\"text/javascript\">if (window.MathJax) {MathJax.Hub.Config({SVG: {font: \"STIX-Web\"}});}</script><script>requirejs.config({paths: { 'plotly': ['https://cdn.plot.ly/plotly-latest.min']},});if(!window._Plotly) {require(['plotly'],function(plotly) {window._Plotly=plotly;});}</script>"
      ],
      "text/vnd.plotly.v1+html": [
       "<script type=\"text/javascript\">window.PlotlyConfig = {MathJaxConfig: 'local'};</script><script type=\"text/javascript\">if (window.MathJax) {MathJax.Hub.Config({SVG: {font: \"STIX-Web\"}});}</script><script>requirejs.config({paths: { 'plotly': ['https://cdn.plot.ly/plotly-latest.min']},});if(!window._Plotly) {require(['plotly'],function(plotly) {window._Plotly=plotly;});}</script>"
      ]
     },
     "metadata": {},
     "output_type": "display_data"
    }
   ],
   "source": [
    "# Data modules\n",
    "import os\n",
    "import numpy as np\n",
    "import pandas as pd\n",
    "import xarray as xr\n",
    "\n",
    "# For development purposes or direct source code use only. Comment out or do not load when not developing package.\n",
    "import sys  # Necessary to add folders to Pyhton's PATH\n",
    "sys.path.insert(0, '../')  # Folder of the cloned source code.\n",
    "\n",
    "# Load mrbles package\n",
    "import mrbles\n",
    "\n",
    "# For standard matplotlib\n",
    "import matplotlib.pyplot as plt\n",
    "# Enable plotting in jupyter notebook\n",
    "%matplotlib inline\n",
    "# Can also be set to notebook, which makes the graphs interactive, but uses more memory\n",
    "# %matplotlib notebook\n",
    "import seaborn as sns  # Makes better looking plots, based on matplotlib\n",
    "\n",
    "# For fancy interactive Plotly graphs\n",
    "import plotly.plotly as py\n",
    "import plotly.graph_objs as go\n",
    "from plotly.offline import download_plotlyjs, init_notebook_mode, plot, iplot  # For plotly offline mode\n",
    "init_notebook_mode(connected=True)  # Enable plotly to notebook mode"
   ]
  },
  {
   "cell_type": "markdown",
   "metadata": {},
   "source": [
    "## Load image set"
   ]
  },
  {
   "cell_type": "markdown",
   "metadata": {},
   "source": [
    "The dictionary keys of image folders and image patterns must match.\n",
    "\n",
    "The instatiatiation of the object will search for the files. An error is thrown if no images are found."
   ]
  },
  {
   "cell_type": "code",
   "execution_count": 4,
   "metadata": {},
   "outputs": [
    {
     "name": "stdout",
     "output_type": "stream",
     "text": [
      "No files found in 125 nM with given parameters.\n",
      "No files found in 250 nM with given parameters.\n",
      "No files found in 500 nM with given parameters.\n",
      "No files found in 1000 nM with given parameters.\n",
      "No files found in 2000 nM with given parameters.\n",
      "No files found in Biotin with given parameters.\n"
     ]
    }
   ],
   "source": [
    "image_folders = {\"125 nM\" : r\"C:\\DATA\\Huy\\20180207 CN\",\n",
    "                 \"250 nM\" : r\"C:\\DATA\\Huy\\20180207 CN\",\n",
    "                 \"500 nM\" : r\"C:\\DATA\\Huy\\20180207 CN\",\n",
    "                 \"1000 nM\" : r\"C:\\DATA\\Huy\\20180207 CN\",\n",
    "                 \"2000 nM\" : r\"C:\\DATA\\Huy\\20180207 CN\",\n",
    "                 \"Biotin\" : r\"C:\\DATA\\Huy\\20180111 CN\"\n",
    "}\n",
    "image_patterns = {\"125 nM\" : r\"20180207_CN_selected_125nM_([1-9]|[1-9][0-9])_MMStack_Pos0.ome.tif\",\n",
    "                  \"250 nM\" : \"20180207_CN_selected_250nM_([1-9]|[1-9][0-9])_MMStack_Pos0.ome.tif\",\n",
    "                  \"500 nM\" : r\"20180207_CN_selected_500nM_([1-9]|[1-9][0-9])_MMStack_Pos0.ome.tif\",\n",
    "                  \"1000 nM\" : r\"20180207_CN_selected_1uM_([1-9]|[1-9][0-9])_MMStack_Pos0.ome.tif\",\n",
    "                  \"2000 nM\" : r\"20180207_CN_selected_2uMb_([1-9]|[1-9][0-9])_MMStack_Pos0.ome.tif\",\n",
    "                  \"Biotin\" : r\"20180111_CN_Final_Normal_biotinb_([1-9]|[1-9][0-9])_MMStack_Pos0.ome.tif\"\n",
    "}\n",
    "mrbles_images = mrbles.Images(folders=image_folders, file_patterns=image_patterns)"
   ]
  },
  {
   "cell_type": "code",
   "execution_count": 5,
   "metadata": {},
   "outputs": [
    {
     "data": {
      "text/plain": [
       "{'125 nM': None,\n",
       " '250 nM': None,\n",
       " '500 nM': None,\n",
       " '1000 nM': None,\n",
       " '2000 nM': None,\n",
       " 'Biotin': None}"
      ]
     },
     "execution_count": 5,
     "metadata": {},
     "output_type": "execute_result"
    }
   ],
   "source": [
    "mrbles_images.files"
   ]
  },
  {
   "cell_type": "markdown",
   "metadata": {},
   "source": [
    "### Load the images into memory\n",
    "Remember: you need to have the memory in your comoputer to load it into the memory, otherwise it will take a very long time to analyze, since your computer will use the swap file on your hard drive. Rule of thumb: have at least 3x the memory of the size of your images"
   ]
  },
  {
   "cell_type": "code",
   "execution_count": 6,
   "metadata": {},
   "outputs": [
    {
     "ename": "TypeError",
     "evalue": "'NoneType' object is not iterable",
     "output_type": "error",
     "traceback": [
      "\u001b[1;31m---------------------------------------------------------------------------\u001b[0m",
      "\u001b[1;31mTypeError\u001b[0m                                 Traceback (most recent call last)",
      "\u001b[1;32m<ipython-input-6-b97ccdb86fd0>\u001b[0m in \u001b[0;36m<module>\u001b[1;34m\u001b[0m\n\u001b[1;32m----> 1\u001b[1;33m \u001b[0mmrbles_images\u001b[0m\u001b[1;33m.\u001b[0m\u001b[0mload\u001b[0m\u001b[1;33m(\u001b[0m\u001b[1;33m)\u001b[0m\u001b[1;33m\u001b[0m\u001b[1;33m\u001b[0m\u001b[0m\n\u001b[0m",
      "\u001b[1;32mG:\\My Drive\\[Stanford]\\DEV\\Encoded Beads Project\\Bead Analysis\\mrbles\\pipeline.py\u001b[0m in \u001b[0;36mload\u001b[1;34m(self, series)\u001b[0m\n\u001b[0;32m    183\u001b[0m             \u001b[1;32mreturn\u001b[0m \u001b[1;32mFalse\u001b[0m\u001b[1;33m\u001b[0m\u001b[1;33m\u001b[0m\u001b[0m\n\u001b[0;32m    184\u001b[0m         self._dataframe = {key: ImageSetRead(file_set, series).xdata\n\u001b[1;32m--> 185\u001b[1;33m                            for key, file_set in self.files.items()}\n\u001b[0m\u001b[0;32m    186\u001b[0m \u001b[1;33m\u001b[0m\u001b[0m\n\u001b[0;32m    187\u001b[0m     \u001b[1;32mdef\u001b[0m \u001b[0madd_images\u001b[0m\u001b[1;33m(\u001b[0m\u001b[0mself\u001b[0m\u001b[1;33m,\u001b[0m \u001b[0mimages\u001b[0m\u001b[1;33m)\u001b[0m\u001b[1;33m:\u001b[0m\u001b[1;33m\u001b[0m\u001b[1;33m\u001b[0m\u001b[0m\n",
      "\u001b[1;32mG:\\My Drive\\[Stanford]\\DEV\\Encoded Beads Project\\Bead Analysis\\mrbles\\pipeline.py\u001b[0m in \u001b[0;36m<dictcomp>\u001b[1;34m(.0)\u001b[0m\n\u001b[0;32m    183\u001b[0m             \u001b[1;32mreturn\u001b[0m \u001b[1;32mFalse\u001b[0m\u001b[1;33m\u001b[0m\u001b[1;33m\u001b[0m\u001b[0m\n\u001b[0;32m    184\u001b[0m         self._dataframe = {key: ImageSetRead(file_set, series).xdata\n\u001b[1;32m--> 185\u001b[1;33m                            for key, file_set in self.files.items()}\n\u001b[0m\u001b[0;32m    186\u001b[0m \u001b[1;33m\u001b[0m\u001b[0m\n\u001b[0;32m    187\u001b[0m     \u001b[1;32mdef\u001b[0m \u001b[0madd_images\u001b[0m\u001b[1;33m(\u001b[0m\u001b[0mself\u001b[0m\u001b[1;33m,\u001b[0m \u001b[0mimages\u001b[0m\u001b[1;33m)\u001b[0m\u001b[1;33m:\u001b[0m\u001b[1;33m\u001b[0m\u001b[1;33m\u001b[0m\u001b[0m\n",
      "\u001b[1;32mG:\\My Drive\\[Stanford]\\DEV\\Encoded Beads Project\\Bead Analysis\\mrbles\\data.py\u001b[0m in \u001b[0;36m__init__\u001b[1;34m(self, file_path, series, output)\u001b[0m\n\u001b[0;32m    371\u001b[0m         \u001b[0msuper\u001b[0m\u001b[1;33m(\u001b[0m\u001b[0mImageSetRead\u001b[0m\u001b[1;33m,\u001b[0m \u001b[0mself\u001b[0m\u001b[1;33m)\u001b[0m\u001b[1;33m.\u001b[0m\u001b[0m__init__\u001b[0m\u001b[1;33m(\u001b[0m\u001b[1;33m)\u001b[0m\u001b[1;33m\u001b[0m\u001b[1;33m\u001b[0m\u001b[0m\n\u001b[0;32m    372\u001b[0m         \u001b[0mself\u001b[0m\u001b[1;33m.\u001b[0m\u001b[0m_dataframe\u001b[0m\u001b[1;33m,\u001b[0m \u001b[0mself\u001b[0m\u001b[1;33m.\u001b[0m\u001b[0m_metadata\u001b[0m\u001b[1;33m,\u001b[0m \u001b[0mself\u001b[0m\u001b[1;33m.\u001b[0m\u001b[0m_files\u001b[0m \u001b[1;33m=\u001b[0m\u001b[0;31m \u001b[0m\u001b[0;31m\\\u001b[0m\u001b[1;33m\u001b[0m\u001b[1;33m\u001b[0m\u001b[0m\n\u001b[1;32m--> 373\u001b[1;33m             \u001b[0mself\u001b[0m\u001b[1;33m.\u001b[0m\u001b[0mload\u001b[0m\u001b[1;33m(\u001b[0m\u001b[0mfile_path\u001b[0m\u001b[1;33m,\u001b[0m \u001b[0mseries\u001b[0m\u001b[1;33m)\u001b[0m\u001b[1;33m\u001b[0m\u001b[1;33m\u001b[0m\u001b[0m\n\u001b[0m\u001b[0;32m    374\u001b[0m         \u001b[0mself\u001b[0m\u001b[1;33m.\u001b[0m\u001b[0moutput\u001b[0m \u001b[1;33m=\u001b[0m \u001b[0moutput\u001b[0m\u001b[1;33m\u001b[0m\u001b[1;33m\u001b[0m\u001b[0m\n\u001b[0;32m    375\u001b[0m \u001b[1;33m\u001b[0m\u001b[0m\n",
      "\u001b[1;32mG:\\My Drive\\[Stanford]\\DEV\\Encoded Beads Project\\Bead Analysis\\mrbles\\data.py\u001b[0m in \u001b[0;36mload\u001b[1;34m(cls, file_path, series)\u001b[0m\n\u001b[0;32m    409\u001b[0m         \u001b[1;32mif\u001b[0m \u001b[0misinstance\u001b[0m\u001b[1;33m(\u001b[0m\u001b[0mfile_path\u001b[0m\u001b[1;33m,\u001b[0m \u001b[0mstr\u001b[0m\u001b[1;33m)\u001b[0m\u001b[1;33m:\u001b[0m\u001b[1;33m\u001b[0m\u001b[1;33m\u001b[0m\u001b[0m\n\u001b[0;32m    410\u001b[0m             \u001b[0mfile_path\u001b[0m \u001b[1;33m=\u001b[0m \u001b[1;33m[\u001b[0m\u001b[0mfile_path\u001b[0m\u001b[1;33m]\u001b[0m\u001b[1;33m\u001b[0m\u001b[1;33m\u001b[0m\u001b[0m\n\u001b[1;32m--> 411\u001b[1;33m         \u001b[1;32mwith\u001b[0m \u001b[0mtff\u001b[0m\u001b[1;33m.\u001b[0m\u001b[0mTiffSequence\u001b[0m\u001b[1;33m(\u001b[0m\u001b[0mfile_path\u001b[0m\u001b[1;33m,\u001b[0m \u001b[0mpattern\u001b[0m\u001b[1;33m=\u001b[0m\u001b[1;34m'XYCZT'\u001b[0m\u001b[1;33m)\u001b[0m \u001b[1;32mas\u001b[0m \u001b[0mts\u001b[0m\u001b[1;33m,\u001b[0m\u001b[0;31m \u001b[0m\u001b[0;31m\\\u001b[0m\u001b[1;33m\u001b[0m\u001b[1;33m\u001b[0m\u001b[0m\n\u001b[0m\u001b[0;32m    412\u001b[0m                 \u001b[0mtff\u001b[0m\u001b[1;33m.\u001b[0m\u001b[0mTiffFile\u001b[0m\u001b[1;33m(\u001b[0m\u001b[0mfile_path\u001b[0m\u001b[1;33m[\u001b[0m\u001b[1;36m0\u001b[0m\u001b[1;33m]\u001b[0m\u001b[1;33m)\u001b[0m \u001b[1;32mas\u001b[0m \u001b[0mtf\u001b[0m\u001b[1;33m:\u001b[0m\u001b[1;33m\u001b[0m\u001b[1;33m\u001b[0m\u001b[0m\n\u001b[0;32m    413\u001b[0m             \u001b[0mfiles\u001b[0m \u001b[1;33m=\u001b[0m \u001b[0mts\u001b[0m\u001b[1;33m.\u001b[0m\u001b[0mfiles\u001b[0m\u001b[1;33m\u001b[0m\u001b[1;33m\u001b[0m\u001b[0m\n",
      "\u001b[1;32mc:\\users\\bjorn\\appdata\\local\\programs\\python\\python37\\lib\\site-packages\\skimage\\external\\tifffile\\tifffile.py\u001b[0m in \u001b[0;36m__init__\u001b[1;34m(self, files, imread, pattern, *args, **kwargs)\u001b[0m\n\u001b[0;32m   3268\u001b[0m         \u001b[1;32mif\u001b[0m \u001b[0misinstance\u001b[0m\u001b[1;33m(\u001b[0m\u001b[0mfiles\u001b[0m\u001b[1;33m,\u001b[0m \u001b[0mbasestring\u001b[0m\u001b[1;33m)\u001b[0m\u001b[1;33m:\u001b[0m\u001b[1;33m\u001b[0m\u001b[1;33m\u001b[0m\u001b[0m\n\u001b[0;32m   3269\u001b[0m             \u001b[0mfiles\u001b[0m \u001b[1;33m=\u001b[0m \u001b[0mnatural_sorted\u001b[0m\u001b[1;33m(\u001b[0m\u001b[0mglob\u001b[0m\u001b[1;33m.\u001b[0m\u001b[0mglob\u001b[0m\u001b[1;33m(\u001b[0m\u001b[0mfiles\u001b[0m\u001b[1;33m)\u001b[0m\u001b[1;33m)\u001b[0m\u001b[1;33m\u001b[0m\u001b[1;33m\u001b[0m\u001b[0m\n\u001b[1;32m-> 3270\u001b[1;33m         \u001b[0mfiles\u001b[0m \u001b[1;33m=\u001b[0m \u001b[0mlist\u001b[0m\u001b[1;33m(\u001b[0m\u001b[0mfiles\u001b[0m\u001b[1;33m)\u001b[0m\u001b[1;33m\u001b[0m\u001b[1;33m\u001b[0m\u001b[0m\n\u001b[0m\u001b[0;32m   3271\u001b[0m         \u001b[1;32mif\u001b[0m \u001b[1;32mnot\u001b[0m \u001b[0mfiles\u001b[0m\u001b[1;33m:\u001b[0m\u001b[1;33m\u001b[0m\u001b[1;33m\u001b[0m\u001b[0m\n\u001b[0;32m   3272\u001b[0m             \u001b[1;32mraise\u001b[0m \u001b[0mValueError\u001b[0m\u001b[1;33m(\u001b[0m\u001b[1;34m\"no files found\"\u001b[0m\u001b[1;33m)\u001b[0m\u001b[1;33m\u001b[0m\u001b[1;33m\u001b[0m\u001b[0m\n",
      "\u001b[1;31mTypeError\u001b[0m: 'NoneType' object is not iterable"
     ]
    }
   ],
   "source": [
    "mrbles_images.load()"
   ]
  },
  {
   "cell_type": "markdown",
   "metadata": {},
   "source": [
    "### Rename channels\n",
    "To make analysis easier you need to rename the Cy5 channels to be all the same"
   ]
  },
  {
   "cell_type": "code",
   "execution_count": null,
   "metadata": {},
   "outputs": [],
   "source": [
    "mrbles_images.rename_channel('Cy5-E', 'Cy5')\n",
    "mrbles_images.rename_channel('Cy5-E 10%', 'Cy5')"
   ]
  },
  {
   "cell_type": "markdown",
   "metadata": {},
   "source": [
    "### Crop images\n",
    "If necessary crop the images, this can be done at all time and does not require reloading of the images. This can also reduce memory usage. If you do not use the automated circle ROI finding, this is the point where you set and ROI."
   ]
  },
  {
   "cell_type": "code",
   "execution_count": null,
   "metadata": {},
   "outputs": [],
   "source": [
    "mrbles_images.crop_x = slice(90, 940)\n",
    "mrbles_images.crop_y = slice(90, 940)"
   ]
  },
  {
   "cell_type": "markdown",
   "metadata": {},
   "source": [
    "### Slicing and displaying"
   ]
  },
  {
   "cell_type": "markdown",
   "metadata": {},
   "source": [
    "The mrbles package uses a custom dataframe format, which is combination of dict, which is a standard Python dataframe using keys and values (your sets, defined using the keys of the imaga folders/patterns) and Xarray, whih is used for multi-dimensional arrays. It can be slices using as a Xarray DataArray using Xarray syntax (similar to Pandas). The reason for using a custom dataframe is that Xarray (and any other array method) cannot work with 'jagged' data, which is not suitable for combining sets/conditions that have variable numbers of files.\n",
    "\n",
    "mrbles dataframe structure:\n",
    "```python\n",
    "mrbles_images['set name', file number, 'channel name', y-slice, x-slice]\n",
    "```"
   ]
  },
  {
   "cell_type": "code",
   "execution_count": null,
   "metadata": {},
   "outputs": [],
   "source": [
    "plt.figure(dpi=150)\n",
    "plt.axis('off')\n",
    "plt.tight_layout()\n",
    "plt.imshow(mrbles_images['125 nM', 5, 'Brightfield']);  # set 63 nM, file #3 (Pyhton is 0-indexed), channel 'Brightfield'"
   ]
  },
  {
   "cell_type": "markdown",
   "metadata": {},
   "source": [
    "## Find MRBLEs in images"
   ]
  },
  {
   "cell_type": "markdown",
   "metadata": {},
   "source": [
    "Instatiate a MBRLEs finding object, giving initial bead_size (pixels), which must be set. More fine-tune settings can be set by calling object.settings.area_max etc. Otherwise, default settings are used.\n",
    "\n",
    "Settings can be accessed via .settings. Use Tab to see options and CRTL+Tab to see documentation.\n",
    "\n",
    "The circle_size parameters enables automated circle ROI finding. It will find the center and then creates a circular ROI, around that center with the radius provided in pixels.\n",
    "\n",
    "Set bead_size to an estimated bead width in pixels. This will estimate area_min and area_max, which are used for filtering objects."
   ]
  },
  {
   "cell_type": "code",
   "execution_count": null,
   "metadata": {},
   "outputs": [],
   "source": [
    "find_mrbles = mrbles.Find(bead_size=14, border_clear=True, circle_size=350)\n",
    "find_mrbles.settings.eccen_max = 0.65\n",
    "find_mrbles.settings.parallelize = True  # Experimental method, does not work well on computers with limited resources."
   ]
  },
  {
   "cell_type": "markdown",
   "metadata": {},
   "source": [
    "### Start the mrbles bead finding"
   ]
  },
  {
   "cell_type": "code",
   "execution_count": null,
   "metadata": {},
   "outputs": [],
   "source": [
    "find_mrbles.find(mrbles_images[:, : , 'Brightfield'])"
   ]
  },
  {
   "cell_type": "markdown",
   "metadata": {},
   "source": [
    "### Different masked regions\n",
    "The Find method provides several different regions of the bead, namely: "
   ]
  },
  {
   "cell_type": "code",
   "execution_count": null,
   "metadata": {},
   "outputs": [],
   "source": [
    "find_mrbles['125 nM'].c"
   ]
  },
  {
   "cell_type": "markdown",
   "metadata": {},
   "source": [
    "The mask 'mask_check' gives you an image with the found circular region and the found beads."
   ]
  },
  {
   "cell_type": "code",
   "execution_count": null,
   "metadata": {},
   "outputs": [],
   "source": [
    "plt.figure(dpi=450)\n",
    "plt.axis('off')\n",
    "plt.tight_layout()\n",
    "plt.imshow(find_mrbles['125 nM', 5, 'mask_check']);"
   ]
  },
  {
   "cell_type": "code",
   "execution_count": null,
   "metadata": {},
   "outputs": [],
   "source": [
    "plt.figure(dpi=450)\n",
    "plt.axis('off')\n",
    "plt.tight_layout()\n",
    "plt.imshow(find_mrbles['125 nM', 5, 'mask_ring']);"
   ]
  },
  {
   "cell_type": "markdown",
   "metadata": {},
   "source": [
    "## Create Reference spectra\n",
    "This uses a similar setup as Images() and Find(), in which you provide folders and patterns."
   ]
  },
  {
   "cell_type": "code",
   "execution_count": null,
   "metadata": {},
   "outputs": [],
   "source": [
    "# Channel settings\n",
    "DECODE_CHANNELS = slice('l-435','l-780')  # Channel range for decoding\n",
    "OBJECT_CHANNEL = 'Brightfield'  # Channel for bead finding\n",
    "\n",
    "# Reference files\n",
    "REF_FOLDER = {\n",
    "    \"Dy\": r\"C:\\DATA\\20170406 - Reference files - KARA\",\n",
    "    \"Sm\": r\"C:\\DATA\\20170406 - Reference files - KARA\",\n",
    "    \"Tm\": r\"C:\\DATA\\20170406 - Reference files - KARA\",\n",
    "    \"Eu\": r\"C:\\DATA\\20170406 - Reference files - KARA\",\n",
    "    \"bkg\": r\"C:\\DATA\\Huy\\20180111 CN\\20180111_CN_Final_Normal_biotinb_5\"\n",
    "}\n",
    "REF_FILES = {\"Dy\" : \"Dy_Solos_3_MMStack_Pos0.ome.tif\",\n",
    "             \"Sm\" : \"Sm_solos_5_MMStack_Pos0.ome.tif\",\n",
    "             \"Tm\" : \"Tm_solos_3_MMStack_Pos0.ome.tif\",\n",
    "             \"Eu\" : \"Eu_solos_6_MMStack_Pos0.ome.tif\",\n",
    "             \"bkg\" : \"20180111_CN_Final_Normal_biotinb_5_MMStack_Pos0.ome.tif\"\n",
    "}"
   ]
  },
  {
   "cell_type": "markdown",
   "metadata": {},
   "source": [
    "### Instatiating References()\n",
    "Set bead_size as in Find().\n",
    "crop_x/crop_y are the general (rectangular) ROI.\n",
    "bkg_roi is the background region. Choose an empty spot in the 'bkg' image selected above."
   ]
  },
  {
   "cell_type": "code",
   "execution_count": null,
   "metadata": {},
   "outputs": [],
   "source": [
    "spec_object = mrbles.References(REF_FOLDER, REF_FILES, OBJECT_CHANNEL, DECODE_CHANNELS, bead_size=18)\n",
    "spec_object.crop_x = slice(262, 762)\n",
    "spec_object.crop_y = slice(262, 762)\n",
    "spec_object.bkg_roi = [slice(390, 738), slice(377, 733)]"
   ]
  },
  {
   "cell_type": "markdown",
   "metadata": {},
   "source": [
    "### Load References"
   ]
  },
  {
   "cell_type": "code",
   "execution_count": null,
   "metadata": {
    "scrolled": false
   },
   "outputs": [],
   "source": [
    "spec_object.load()"
   ]
  },
  {
   "cell_type": "markdown",
   "metadata": {},
   "source": [
    "### Show plot and 'bkg' ROI\n",
    "Background ROI should not show any beads."
   ]
  },
  {
   "cell_type": "code",
   "execution_count": null,
   "metadata": {},
   "outputs": [],
   "source": [
    "spec_object.plot()"
   ]
  },
  {
   "cell_type": "markdown",
   "metadata": {},
   "source": [
    "## Spectral unmixing and get ratios\n",
    "This will linearly unmix the lanthanide channels into unmixed lanthanide images, using the References() object above."
   ]
  },
  {
   "cell_type": "code",
   "execution_count": null,
   "metadata": {},
   "outputs": [],
   "source": [
    "ratio_images = mrbles.Ratio(spec_object)"
   ]
  },
  {
   "cell_type": "markdown",
   "metadata": {},
   "source": [
    "### Unmix images and get ratios\n",
    "combine_data=data is for including the data inside the Ratio() object for later ease/use. Be careful with how many channels to include, since this will consume memory rapidly (since you are copying them into memory). Always include [] around the channel name, even if it is only 1 name, otherwise it will not copy its name and throws an error!"
   ]
  },
  {
   "cell_type": "code",
   "execution_count": null,
   "metadata": {},
   "outputs": [],
   "source": [
    "ratio_images.get(mrbles_images[:, :, DECODE_CHANNELS], 'Eu', combine_data=mrbles_images[:, :, ['Cy5']])"
   ]
  },
  {
   "cell_type": "code",
   "execution_count": null,
   "metadata": {
    "scrolled": true
   },
   "outputs": [],
   "source": [
    "ratio_images['125 nM'].c"
   ]
  },
  {
   "cell_type": "markdown",
   "metadata": {},
   "source": [
    "## Extract data from each MRBLE"
   ]
  },
  {
   "cell_type": "code",
   "execution_count": null,
   "metadata": {
    "scrolled": true
   },
   "outputs": [],
   "source": [
    "extract_data = mrbles.Extract()"
   ]
  },
  {
   "cell_type": "code",
   "execution_count": null,
   "metadata": {
    "scrolled": true
   },
   "outputs": [],
   "source": [
    "extract_data.get(ratio_images[:, :, ['Dy_ratio', 'Sm_ratio', 'Tm_ratio', 'bkg', 'Eu', 'Cy5']], \n",
    "                 find_mrbles[:, :, ['mask_ring', 'mask_inside', 'mask_full', 'mask_bkg']])"
   ]
  },
  {
   "cell_type": "code",
   "execution_count": null,
   "metadata": {
    "scrolled": true
   },
   "outputs": [],
   "source": [
    "extract_data.filter(bkg_factor=2.0, ref_factor=2.0, bkg='bkg.mask_full', ref='Eu.mask_inside')"
   ]
  },
  {
   "cell_type": "markdown",
   "metadata": {},
   "source": [
    "## Decode - Biotin"
   ]
  },
  {
   "cell_type": "code",
   "execution_count": null,
   "metadata": {},
   "outputs": [],
   "source": [
    "seq_file = pd.read_excel(r'C:\\DATA\\Huy\\20180105_SEQ_CN_Final-Match-List.xlsx')\n",
    "seq_file.loc[(seq_file.code==12), ('Dy', 'Sm', 'Tm')] = [0, 0.41682, 0.02844]\n",
    "seq_file.loc[(seq_file.code==13), ('Dy', 'Sm', 'Tm')] = [0, 0.47785, 0.04081]\n",
    "\n",
    "target = seq_file.loc[(seq_file.set=='match'), ['Dy', 'Sm', 'Tm']].values\n",
    "sequences = seq_file.loc[(seq_file.set=='match')].reset_index(drop=True)\n",
    "\n",
    "target_biotin = seq_file.loc[:, ['Dy', 'Sm', 'Tm']].values\n",
    "sequences_biotin = seq_file.reset_index(drop=True)"
   ]
  },
  {
   "cell_type": "code",
   "execution_count": null,
   "metadata": {},
   "outputs": [],
   "source": [
    "biotin_set = extract_data.data.loc[('Biotin')]"
   ]
  },
  {
   "cell_type": "code",
   "execution_count": null,
   "metadata": {
    "scrolled": true
   },
   "outputs": [],
   "source": [
    "biotin_set"
   ]
  },
  {
   "cell_type": "code",
   "execution_count": null,
   "metadata": {},
   "outputs": [],
   "source": [
    "mrbles_decode_biotin = mrbles.Decode(target_biotin)\n",
    "mrbles_decode_biotin.settings.icp.train = False"
   ]
  },
  {
   "cell_type": "code",
   "execution_count": null,
   "metadata": {},
   "outputs": [],
   "source": [
    "mrbles_decode_biotin.decode(biotin_set.loc[:,('Dy_ratio.mask_inside', 'Sm_ratio.mask_inside', 'Tm_ratio.mask_inside')], combine_data=biotin_set)"
   ]
  },
  {
   "cell_type": "markdown",
   "metadata": {},
   "source": [
    "### Subtract local background"
   ]
  },
  {
   "cell_type": "code",
   "execution_count": null,
   "metadata": {},
   "outputs": [],
   "source": [
    "extract_set_biotin = mrbles_decode_biotin.data.loc[(mrbles_decode_biotin.data.confidence > 0.95), ('code', 'flag', 'Cy5.mask_ring')]\n",
    "extract_set_biotin.loc[:, 'Cy5.mask_ring'] -= mrbles_decode_biotin.data.loc[:, ('Cy5.mask_bkg')]"
   ]
  },
  {
   "cell_type": "code",
   "execution_count": null,
   "metadata": {
    "scrolled": true
   },
   "outputs": [],
   "source": [
    "extract_set_biotin"
   ]
  },
  {
   "cell_type": "markdown",
   "metadata": {},
   "source": [
    "### Analyze per-code data"
   ]
  },
  {
   "cell_type": "code",
   "execution_count": null,
   "metadata": {},
   "outputs": [],
   "source": [
    "mrbles_biotin_data = mrbles.Analyze(seq_list=sequences_biotin)"
   ]
  },
  {
   "cell_type": "code",
   "execution_count": null,
   "metadata": {},
   "outputs": [],
   "source": [
    "mrbles_biotin_data.analyze(extract_set_biotin)"
   ]
  },
  {
   "cell_type": "code",
   "execution_count": null,
   "metadata": {
    "scrolled": true
   },
   "outputs": [],
   "source": [
    "mrbles_biotin_data.data"
   ]
  },
  {
   "cell_type": "markdown",
   "metadata": {},
   "source": [
    "## Decode - Concentrations"
   ]
  },
  {
   "cell_type": "code",
   "execution_count": null,
   "metadata": {},
   "outputs": [],
   "source": [
    "mrbles_decode = mrbles.Decode(target)"
   ]
  },
  {
   "cell_type": "code",
   "execution_count": null,
   "metadata": {},
   "outputs": [],
   "source": [
    "mrbles_decode.settings.icp.train = True"
   ]
  },
  {
   "cell_type": "code",
   "execution_count": null,
   "metadata": {},
   "outputs": [],
   "source": [
    "bead_set = extract_data.data"
   ]
  },
  {
   "cell_type": "markdown",
   "metadata": {},
   "source": [
    "### Train bead-set by cycling thourgh good sets"
   ]
  },
  {
   "cell_type": "code",
   "execution_count": null,
   "metadata": {
    "scrolled": false
   },
   "outputs": [],
   "source": [
    "mrbles_decode.decode(bead_set.loc['250 nM', ('Dy_ratio.mask_inside', 'Sm_ratio.mask_inside', 'Tm_ratio.mask_inside')])"
   ]
  },
  {
   "cell_type": "markdown",
   "metadata": {},
   "source": [
    "### Decode on whole set using trained mrbles_decode object, and combine with bead_set data"
   ]
  },
  {
   "cell_type": "code",
   "execution_count": null,
   "metadata": {},
   "outputs": [],
   "source": [
    "mrbles_decode.decode(bead_set.loc[:, ('Dy_ratio.mask_inside', 'Sm_ratio.mask_inside', 'Tm_ratio.mask_inside')], combine_data=bead_set)"
   ]
  },
  {
   "cell_type": "markdown",
   "metadata": {},
   "source": [
    "### Analyze per-code data"
   ]
  },
  {
   "cell_type": "code",
   "execution_count": null,
   "metadata": {},
   "outputs": [],
   "source": [
    "mrbles_final = mrbles.Analyze(seq_list=sequences)"
   ]
  },
  {
   "cell_type": "markdown",
   "metadata": {},
   "source": [
    "Subtract local background"
   ]
  },
  {
   "cell_type": "code",
   "execution_count": null,
   "metadata": {
    "scrolled": true
   },
   "outputs": [],
   "source": [
    "extract_set = mrbles_decode.data.loc[(mrbles_decode.data.confidence > 0.95), ('code', 'flag', 'Cy5.mask_ring')]\n",
    "extract_set.loc[:, 'Cy5.mask_ring'] -= mrbles_decode.data.loc[:, ('Cy5.mask_bkg')]"
   ]
  },
  {
   "cell_type": "code",
   "execution_count": null,
   "metadata": {
    "scrolled": true
   },
   "outputs": [],
   "source": [
    "extract_set"
   ]
  },
  {
   "cell_type": "code",
   "execution_count": null,
   "metadata": {},
   "outputs": [],
   "source": [
    "mrbles_final.analyze(extract_set)"
   ]
  },
  {
   "cell_type": "code",
   "execution_count": null,
   "metadata": {
    "scrolled": true
   },
   "outputs": [],
   "source": [
    "mrbles_final.data"
   ]
  },
  {
   "cell_type": "markdown",
   "metadata": {},
   "source": [
    "## Normalize data using biotin data"
   ]
  },
  {
   "cell_type": "code",
   "execution_count": null,
   "metadata": {},
   "outputs": [],
   "source": [
    "norm_data = mrbles_biotin_data.data\n",
    "norm_max = norm_data['mean'].max()"
   ]
  },
  {
   "cell_type": "code",
   "execution_count": null,
   "metadata": {},
   "outputs": [],
   "source": [
    "norm_data['mean_scaled'] = mrbles_biotin_data.data['mean'] / norm_data['mean'].max()\n",
    "norm_data['median_scaled'] = mrbles_biotin_data.data['median'] / norm_data['median'].max()\n",
    "norm_data['sd_scaled'] = mrbles_biotin_data.data['sd'] / norm_data['mean'].max()\n",
    "norm_data['se_scaled'] = mrbles_biotin_data.data['sd_scaled'] / np.sqrt(norm_data['N'])"
   ]
  },
  {
   "cell_type": "code",
   "execution_count": null,
   "metadata": {
    "scrolled": true
   },
   "outputs": [],
   "source": [
    "norm_data"
   ]
  },
  {
   "cell_type": "code",
   "execution_count": null,
   "metadata": {
    "scrolled": true
   },
   "outputs": [],
   "source": [
    "# norm_data.to_csv(\"C:/Users/bjorn/Desktop/20180207 - Calibration Biotin.csv\")"
   ]
  },
  {
   "cell_type": "code",
   "execution_count": null,
   "metadata": {},
   "outputs": [],
   "source": [
    "beads_data = mrbles_final.data"
   ]
  },
  {
   "cell_type": "code",
   "execution_count": null,
   "metadata": {
    "scrolled": true
   },
   "outputs": [],
   "source": [
    "beads_data"
   ]
  },
  {
   "cell_type": "code",
   "execution_count": null,
   "metadata": {},
   "outputs": [],
   "source": [
    "set_codes = np.unique(beads_data['set.code'])"
   ]
  },
  {
   "cell_type": "code",
   "execution_count": null,
   "metadata": {},
   "outputs": [],
   "source": [
    "for code in set_codes:\n",
    "    norm_mean = norm_data.loc[norm_data['set.code'] == code, 'mean_scaled'].values\n",
    "    norm_sd = norm_data.loc[norm_data['set.code'] == code, 'sd_scaled'].values\n",
    "    \n",
    "    data_mean = beads_data.loc[beads_data['set.code'] == code, 'mean'].values\n",
    "    data_median = beads_data.loc[beads_data['set.code'] == code, 'median'].values\n",
    "    data_sd = beads_data.loc[beads_data['set.code'] == code, 'sd'].values\n",
    "    data_n = beads_data.loc[beads_data['set.code'] == code, 'N'].values\n",
    "    \n",
    "    mean_norm = (data_mean / norm_mean)\n",
    "    median_norm = (data_median / norm_mean)\n",
    "    sd_norm = np.abs(mean_norm) * (np.sqrt((data_sd / data_mean) ** 2 + (norm_sd / norm_mean)**2))\n",
    "    cv_norm = mean_norm / sd_norm\n",
    "    se_norm = sd_norm / np.sqrt(data_n)\n",
    "    \n",
    "    beads_data.loc[beads_data['set.code'] == code, 'mean_norm'] = mean_norm\n",
    "    beads_data.loc[beads_data['set.code'] == code, 'median_norm'] = median_norm\n",
    "    beads_data.loc[beads_data['set.code'] == code, 'sd_norm'] = sd_norm\n",
    "    beads_data.loc[beads_data['set.code'] == code, 'cv_norm'] = cv_norm\n",
    "    beads_data.loc[beads_data['set.code'] == code, 'se_norm'] = se_norm"
   ]
  },
  {
   "cell_type": "code",
   "execution_count": null,
   "metadata": {
    "scrolled": true
   },
   "outputs": [],
   "source": [
    "beads_data"
   ]
  },
  {
   "cell_type": "code",
   "execution_count": null,
   "metadata": {
    "scrolled": true
   },
   "outputs": [],
   "source": [
    "# beads_data.to_csv(r'20180213 - Per-Code data.csv')"
   ]
  },
  {
   "cell_type": "code",
   "execution_count": null,
   "metadata": {
    "scrolled": false
   },
   "outputs": [],
   "source": [
    "bead_set1 = mrbles_decode.data\n",
    "\n",
    "confidence = 0.95\n",
    "\n",
    "colors = np.multiply(bead_set1[(bead_set1.confidence > confidence)].code.values.astype(int), np.ceil(255/len(target)))\n",
    "\n",
    "bead_ratios = go.Scatter3d(\n",
    "    name='Bead ratios',\n",
    "    x=bead_set1.loc[(bead_set1.confidence > confidence), ('Dy_ratio.mask_inside_icp')].values,\n",
    "    y=bead_set1.loc[(bead_set1.confidence > confidence), ('Sm_ratio.mask_inside_icp')].values,\n",
    "    z=bead_set1.loc[(bead_set1.confidence > confidence), ('Tm_ratio.mask_inside_icp')].values,\n",
    "    text=bead_set1.loc[(bead_set1.confidence > confidence), ('code')].values + 1,\n",
    "    mode='markers',\n",
    "    marker=dict(\n",
    "        size=3,\n",
    "        color=colors, \n",
    "        colorscale='Rainbow',\n",
    "        opacity=0.6\n",
    "    )\n",
    ")\n",
    "\n",
    "target_ratios = go.Scatter3d(\n",
    "    name='Target ratios',\n",
    "    x=target[:,0],\n",
    "    y=target[:,1],\n",
    "    z=target[:,2],\n",
    "    text=list(range(1, len(target)+1)),\n",
    "    mode='markers',\n",
    "    marker=dict(\n",
    "        size=4,\n",
    "        color='black',\n",
    "        symbol=\"diamond\"\n",
    "    )\n",
    ")\n",
    "\n",
    "mean_ratios = go.Scatter3d(\n",
    "    name='GMM mean ratios',\n",
    "    x=mrbles_decode.settings.gmm.means[:,0],\n",
    "    y=mrbles_decode.settings.gmm.means[:,1],\n",
    "    z=mrbles_decode.settings.gmm.means[:,2],\n",
    "    text=list(range(1, len(target)+1)),\n",
    "    mode='markers',\n",
    "    marker=dict(\n",
    "        size=4,\n",
    "        color='red',\n",
    "        opacity=0.5,\n",
    "        symbol=\"diamond\"\n",
    "    )\n",
    ")\n",
    "\n",
    "data = [bead_ratios, target_ratios, mean_ratios]\n",
    "layout = go.Layout(\n",
    "    showlegend=True,\n",
    "    margin=dict(\n",
    "        l=0,\n",
    "        r=0,\n",
    "        b=0,\n",
    "        t=0\n",
    "    )\n",
    ")\n",
    "fig = go.Figure(data=data, layout=layout)\n",
    "iplot(fig)"
   ]
  },
  {
   "cell_type": "code",
   "execution_count": null,
   "metadata": {
    "scrolled": false
   },
   "outputs": [],
   "source": [
    "bead_set = mrbles_decode_biotin.data\n",
    "\n",
    "confidence = 0.95\n",
    "\n",
    "colors = np.multiply(bead_set[(bead_set.confidence > confidence)].code.values.astype(int), np.ceil(255/len(target_biotin)))\n",
    "\n",
    "bead_ratios = go.Scatter3d(\n",
    "    name='Bead ratios',\n",
    "    x=bead_set.loc[(bead_set.confidence > confidence), ('Dy_ratio.mask_inside_icp')].values,\n",
    "    y=bead_set.loc[(bead_set.confidence > confidence), ('Sm_ratio.mask_inside_icp')].values,\n",
    "    z=bead_set.loc[(bead_set.confidence > confidence), ('Tm_ratio.mask_inside_icp')].values,\n",
    "    text=bead_set.loc[(bead_set.confidence > confidence), ('code')].values + 1,\n",
    "    mode='markers',\n",
    "    marker=dict(\n",
    "        size=3,\n",
    "        color=colors, \n",
    "        colorscale='Rainbow',\n",
    "        opacity=0.6\n",
    "    )\n",
    ")\n",
    "\n",
    "target_ratios = go.Scatter3d(\n",
    "    name='Target ratios',\n",
    "    x=target_biotin[:,0],\n",
    "    y=target_biotin[:,1],\n",
    "    z=target_biotin[:,2],\n",
    "    text=list(range(1, len(target_biotin)+1)),\n",
    "    mode='markers',\n",
    "    marker=dict(\n",
    "        size=4,\n",
    "        color='black',\n",
    "        symbol=\"diamond\"\n",
    "    )\n",
    ")\n",
    "\n",
    "mean_ratios = go.Scatter3d(\n",
    "    name='GMM mean ratios',\n",
    "    x=mrbles_decode_biotin.settings.gmm.means[:,0],\n",
    "    y=mrbles_decode_biotin.settings.gmm.means[:,1],\n",
    "    z=mrbles_decode_biotin.settings.gmm.means[:,2],\n",
    "    text=list(range(1, len(target)+1)),\n",
    "    mode='markers',\n",
    "    marker=dict(\n",
    "        size=4,\n",
    "        color='red',\n",
    "        opacity=0.5,\n",
    "        symbol=\"diamond\"\n",
    "    )\n",
    ")\n",
    "\n",
    "data = [bead_ratios, target_ratios, mean_ratios]\n",
    "layout = go.Layout(\n",
    "    showlegend=True,\n",
    "    margin=dict(\n",
    "        l=0,\n",
    "        r=0,\n",
    "        b=0,\n",
    "        t=0\n",
    "    )\n",
    ")\n",
    "fig = go.Figure(data=data, layout=layout)\n",
    "iplot(fig)"
   ]
  },
  {
   "cell_type": "markdown",
   "metadata": {},
   "source": [
    "# More analysis"
   ]
  },
  {
   "cell_type": "code",
   "execution_count": null,
   "metadata": {
    "scrolled": true
   },
   "outputs": [],
   "source": [
    "bead_set  # Per-bead data"
   ]
  },
  {
   "cell_type": "code",
   "execution_count": null,
   "metadata": {},
   "outputs": [],
   "source": [
    "plt.figure(dpi=100)\n",
    "bead_set.loc[:, 'Cy5.mask_inside'].hist(bins=100);"
   ]
  },
  {
   "cell_type": "code",
   "execution_count": null,
   "metadata": {},
   "outputs": [],
   "source": [
    "plt.figure(dpi=100)\n",
    "cy5_min_bkg = (bead_set.loc[:, 'Cy5.mask_inside'] - bead_set.loc[:, 'Cy5.mask_bkg']).dropna()\n",
    "plt.hist(cy5_min_bkg, bins=100);"
   ]
  },
  {
   "cell_type": "code",
   "execution_count": null,
   "metadata": {},
   "outputs": [],
   "source": [
    "plt.figure(dpi=100)\n",
    "sns.distplot(cy5_min_bkg, bins=100);"
   ]
  },
  {
   "cell_type": "code",
   "execution_count": null,
   "metadata": {
    "scrolled": false
   },
   "outputs": [],
   "source": [
    "extract_set_biotin.loc[:, 'Cy5.mask_ring'].plot.kde();"
   ]
  },
  {
   "cell_type": "code",
   "execution_count": null,
   "metadata": {
    "scrolled": false
   },
   "outputs": [],
   "source": [
    "# Initialize the FacetGrid object\n",
    "pal = sns.cubehelix_palette(len(bead_set.code.unique()), rot=-.25, light=.7)\n",
    "g = sns.FacetGrid(extract_set_biotin, row=\"code\", hue=\"code\", aspect=15, size=.5, palette=pal)\n",
    "\n",
    "# Draw the densities in a few steps\n",
    "g.map(sns.kdeplot, \"Cy5.mask_ring\", clip_on=False, shade=True, alpha=1, lw=1.5, bw=.2)\n",
    "g.map(sns.kdeplot, \"Cy5.mask_ring\", clip_on=False, color=\"w\", lw=2, bw=.2)\n",
    "g.map(plt.axhline, y=0, lw=2, clip_on=False)\n",
    "\n",
    "# Define and use a simple function to label the plot in axes coordinates\n",
    "def label(x, color, label):\n",
    "    ax = plt.gca()\n",
    "    ax.text(0, .2, label, fontweight=\"bold\", color=color, \n",
    "            ha=\"left\", va=\"center\", transform=ax.transAxes)\n",
    "\n",
    "g.map(label, \"Cy5.mask_ring\")\n",
    "\n",
    "# Set the subplots to overlap\n",
    "g.fig.subplots_adjust(hspace=-.25)\n",
    "\n",
    "# Remove axes details that don't play will with overlap\n",
    "g.set_titles(\"\")\n",
    "g.set(yticks=[])\n",
    "g.despine(bottom=True, left=True)"
   ]
  }
 ],
 "metadata": {
  "kernelspec": {
   "display_name": "Python 3",
   "language": "python",
   "name": "python3"
  },
  "language_info": {
   "codemirror_mode": {
    "name": "ipython",
    "version": 3
   },
   "file_extension": ".py",
   "mimetype": "text/x-python",
   "name": "python",
   "nbconvert_exporter": "python",
   "pygments_lexer": "ipython3",
   "version": "3.7.1"
  }
 },
 "nbformat": 4,
 "nbformat_minor": 2
}
