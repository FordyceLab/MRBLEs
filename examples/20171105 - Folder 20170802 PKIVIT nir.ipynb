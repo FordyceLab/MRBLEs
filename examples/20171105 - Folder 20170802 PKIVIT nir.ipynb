{
 "cells": [
  {
   "cell_type": "markdown",
   "metadata": {},
   "source": [
    "## Loading of the necessary modules"
   ]
  },
  {
   "cell_type": "code",
   "execution_count": 1,
   "metadata": {},
   "outputs": [
    {
     "data": {
      "text/html": [
       "<script>requirejs.config({paths: { 'plotly': ['https://cdn.plot.ly/plotly-latest.min']},});if(!window.Plotly) {{require(['plotly'],function(plotly) {window.Plotly=plotly;});}}</script>"
      ],
      "text/vnd.plotly.v1+html": [
       "<script>requirejs.config({paths: { 'plotly': ['https://cdn.plot.ly/plotly-latest.min']},});if(!window.Plotly) {{require(['plotly'],function(plotly) {window.Plotly=plotly;});}}</script>"
      ]
     },
     "metadata": {},
     "output_type": "display_data"
    },
    {
     "name": "stdout",
     "output_type": "stream",
     "text": [
      "Copyright 2017 - The Encoded Beads Project - ThornLab@UCSF and FordyceLab@Stanford\n"
     ]
    }
   ],
   "source": [
    "# [Modules]\n",
    "# General Python\n",
    "import sys\n",
    "import os\n",
    "from math import sqrt\n",
    "import random\n",
    "\n",
    "# Data structures\n",
    "import numpy as np  # For creating, manipulating arrays, and array calculations\n",
    "import pandas as pd # For easy accessible tabular data frames, which can exported to Excel\n",
    "\n",
    "# Image Processing\n",
    "from scipy import ndimage as ndi # Imaging\n",
    "\n",
    "# Regression\n",
    "from lmfit import minimize, Parameters, report_fit\n",
    "from sklearn.mixture import GaussianMixture\n",
    "from sklearn.metrics import silhouette_score\n",
    "from skimage import data, color\n",
    "\n",
    "# Basic image display and plotting tools and notebook settings\n",
    "import matplotlib as mpl             # Basic plotting module\n",
    "from matplotlib import pyplot as plt # Basic plotting tools\n",
    "# Set matplotlib in notebook mode and screen resolutions\n",
    "%matplotlib inline\n",
    "# mpl.rcParams['figure.dpi'] = 100     # Set display resolution\n",
    "# #mpl.rcParams['savefig.dpi'] = 150    # Set figure save resolution\n",
    "# import seaborn as sns                # Uses mpl, but makes nicer plots\n",
    "# sns.set(style=\"whitegrid\")           # Set sns style\n",
    "\n",
    "# For fancy interactive Plotly graphs\n",
    "import plotly.plotly as py\n",
    "import plotly.graph_objs as go\n",
    "import plotly.tools as tools\n",
    "from plotly.tools import FigureFactory as ff\n",
    "from plotly.offline import download_plotlyjs, init_notebook_mode, plot, iplot # For plotly offline mode\n",
    "# Set plotly to notebook mode\n",
    "init_notebook_mode(connected=True)\n",
    "py.sign_in('bjornharink_stanford', 'VqISgcHFwPkY0z50PG47')\n",
    "#py.sign_in('login_name', 'df8aSdf07asd8faAsd78')  # Plot.ly login and API key, if you have one.\n",
    "\n",
    "# Bead analysis module\n",
    "#import bead_analysis as ba\n",
    "import mrbles"
   ]
  },
  {
   "cell_type": "code",
   "execution_count": null,
   "metadata": {},
   "outputs": [],
   "source": []
  },
  {
   "cell_type": "code",
   "execution_count": null,
   "metadata": {},
   "outputs": [],
   "source": []
  },
  {
   "cell_type": "markdown",
   "metadata": {},
   "source": [
    "## The main script"
   ]
  },
  {
   "cell_type": "markdown",
   "metadata": {},
   "source": [
    "### Main config"
   ]
  },
  {
   "cell_type": "code",
   "execution_count": 2,
   "metadata": {},
   "outputs": [],
   "source": [
    "# Channel settings\n",
    "DECODE_CHANNELS = slice('l-435','l-780')  # Channel range for decoding\n",
    "OBJECT_CHANNEL = 'Brightfield'  # Channel for bead finding\n",
    "\n",
    "# Filtering settings\n",
    "reference_std_factor_low = 2   # Reference filter xSD from mean low\n",
    "reference_std_factor_high = 2  # Reference filter xSD from mean high\n",
    "back_std_factor = 2            # Background filter xSD from mean\n",
    "set_prob = 2.3                   # Filter based on log probability"
   ]
  },
  {
   "cell_type": "markdown",
   "metadata": {},
   "source": [
    "### Setting up and loading the reference images\n",
    "Reference image locations and labels:"
   ]
  },
  {
   "cell_type": "code",
   "execution_count": 3,
   "metadata": {},
   "outputs": [
    {
     "ename": "NameError",
     "evalue": "name 'Spectra' is not defined",
     "output_type": "error",
     "traceback": [
      "\u001b[1;31m---------------------------------------------------------------------------\u001b[0m",
      "\u001b[1;31mNameError\u001b[0m                                 Traceback (most recent call last)",
      "\u001b[1;32m<ipython-input-3-4919de16f769>\u001b[0m in \u001b[0;36m<module>\u001b[1;34m()\u001b[0m\n\u001b[0;32m     16\u001b[0m                                        \u001b[0mchannels\u001b[0m \u001b[1;33m=\u001b[0m \u001b[0mDECODE_CHANNELS\u001b[0m\u001b[1;33m,\u001b[0m\u001b[1;33m\u001b[0m\u001b[0m\n\u001b[0;32m     17\u001b[0m                                        \u001b[0mbead_size\u001b[0m \u001b[1;33m=\u001b[0m \u001b[0mREF_BEAD_SIZE\u001b[0m\u001b[1;33m,\u001b[0m\u001b[1;33m\u001b[0m\u001b[0m\n\u001b[1;32m---> 18\u001b[1;33m                                        dark_noise = REF_DARK_NOISE)\n\u001b[0m\u001b[0;32m     19\u001b[0m \u001b[0mspec_object\u001b[0m\u001b[1;33m.\u001b[0m\u001b[0mcrop_x\u001b[0m \u001b[1;33m=\u001b[0m \u001b[0mslice\u001b[0m\u001b[1;33m(\u001b[0m\u001b[1;36m312\u001b[0m\u001b[1;33m,\u001b[0m \u001b[1;36m712\u001b[0m\u001b[1;33m)\u001b[0m\u001b[1;33m\u001b[0m\u001b[0m\n\u001b[0;32m     20\u001b[0m \u001b[0mspec_object\u001b[0m\u001b[1;33m.\u001b[0m\u001b[0mcrop_y\u001b[0m \u001b[1;33m=\u001b[0m \u001b[0mslice\u001b[0m\u001b[1;33m(\u001b[0m\u001b[1;36m312\u001b[0m\u001b[1;33m,\u001b[0m \u001b[1;36m712\u001b[0m\u001b[1;33m)\u001b[0m\u001b[1;33m\u001b[0m\u001b[0m\n",
      "\u001b[1;32mG:\\My Drive\\[Stanford]\\DEV\\Encoded Beads Project\\Bead Analysis\\mrbles\\pipeline.py\u001b[0m in \u001b[0;36m__init__\u001b[1;34m(self, files, object_channel, channels, bead_size, dark_noise)\u001b[0m\n\u001b[0;32m    157\u001b[0m         \u001b[0mself\u001b[0m\u001b[1;33m.\u001b[0m\u001b[0mcrop_y\u001b[0m \u001b[1;33m=\u001b[0m \u001b[1;32mNone\u001b[0m\u001b[1;33m\u001b[0m\u001b[0m\n\u001b[0;32m    158\u001b[0m \u001b[1;33m\u001b[0m\u001b[0m\n\u001b[1;32m--> 159\u001b[1;33m         \u001b[0mself\u001b[0m\u001b[1;33m.\u001b[0m\u001b[0mref_data\u001b[0m \u001b[1;33m=\u001b[0m \u001b[0mSpectra\u001b[0m\u001b[1;33m(\u001b[0m\u001b[1;33m)\u001b[0m\u001b[1;33m\u001b[0m\u001b[0m\n\u001b[0m\u001b[0;32m    160\u001b[0m         \u001b[1;31m#self.ref_objects = FindBeadsCircle(min_r=find_param[0], max_r=find_param[1], param_1=find_param[2], param_2=find_param[3])\u001b[0m\u001b[1;33m\u001b[0m\u001b[1;33m\u001b[0m\u001b[0m\n\u001b[0;32m    161\u001b[0m         \u001b[0mself\u001b[0m\u001b[1;33m.\u001b[0m\u001b[0mref_objects\u001b[0m \u001b[1;33m=\u001b[0m \u001b[0mFindBeadsImaging\u001b[0m\u001b[1;33m(\u001b[0m\u001b[0mbead_size\u001b[0m\u001b[1;33m,\u001b[0m \u001b[0mborder_clear\u001b[0m\u001b[1;33m=\u001b[0m\u001b[1;32mTrue\u001b[0m\u001b[1;33m)\u001b[0m\u001b[1;33m\u001b[0m\u001b[0m\n",
      "\u001b[1;31mNameError\u001b[0m: name 'Spectra' is not defined"
     ]
    }
   ],
   "source": [
    "# Windows\n",
    "REF_FOLDER = r\"Z:\\Data\\Setup 1\\Bead Reference Files\\20170406 - Reference files - KARA\"\n",
    "# MAC OS X\n",
    "# REF_FOLDER = \"/mnt/fordyce_lab/Data/Setup 1/Bead Reference Files/20170406 - Reference files - KARA/\"\n",
    "REF_FILES = {\"Dy\" : os.path.join(REF_FOLDER, \"Dy_Solos_3_MMStack_Pos0.ome.tif\"),\n",
    "             \"Sm\" : os.path.join(REF_FOLDER, \"Sm_solos_5_MMStack_Pos0.ome.tif\"),\n",
    "             \"Tm\" : os.path.join(REF_FOLDER, \"Tm_solos_3_MMStack_Pos0.ome.tif\"),\n",
    "             \"Eu\" : os.path.join(REF_FOLDER, \"Eu_solos_6_MMStack_Pos0.ome.tif\")}\n",
    "\n",
    "REF_BEAD_SIZE = 16  # Estimated bead diameter in pixels\n",
    "REF_DARK_NOISE = 99  # Camera dark noise\n",
    "\n",
    "# Setup ref images object\n",
    "spec_object = mrbles.pipeline.ReferenceSpectra(files = REF_FILES, \n",
    "                                       object_channel = OBJECT_CHANNEL, \n",
    "                                       channels = DECODE_CHANNELS, \n",
    "                                       bead_size = REF_BEAD_SIZE, \n",
    "                                       dark_noise = REF_DARK_NOISE)\n",
    "spec_object.crop_x = slice(312, 712)\n",
    "spec_object.crop_y = slice(312, 712)\n",
    "\n",
    "# Background image set file location\n",
    "BACK_FOLDER =  r\"Z:\\Data\\Setup 1\\Huy\\20170823 HQN106\\20170823_HQN_CN_HQN106_RemovedHigh_1uM_1\"\n",
    "BACK_FILE = os.path.join(BACK_FOLDER, \"20170823_HQN_CN_HQN106_RemovedHigh_1uM_1_MMStack_Pos0.ome.tif\")\n",
    "BACK_ROIx = slice(438, 652)\n",
    "BACK_ROIy = slice(420, 622)"
   ]
  },
  {
   "cell_type": "code",
   "execution_count": null,
   "metadata": {},
   "outputs": [],
   "source": []
  },
  {
   "cell_type": "markdown",
   "metadata": {},
   "source": [
    "Process reference images and add Background Spectrum"
   ]
  },
  {
   "cell_type": "code",
   "execution_count": null,
   "metadata": {
    "scrolled": false
   },
   "outputs": [],
   "source": [
    "# Process ref images\n",
    "spec_object.get_spectra()\n",
    "\n",
    "# Process back image\n",
    "spec_object.set_back(BACK_FILE, DECODE_CHANNELS, BACK_ROIx, BACK_ROIy)\n",
    "\n",
    "# Export Sepctra object\n",
    "ref_data_object = spec_object.output\n",
    "\n",
    "# Plot spectra\n",
    "ref_data_object.plot()"
   ]
  },
  {
   "cell_type": "markdown",
   "metadata": {},
   "source": [
    "### Setting up bead library files"
   ]
  },
  {
   "cell_type": "code",
   "execution_count": null,
   "metadata": {},
   "outputs": [],
   "source": [
    "# Target file location\n",
    "TARGET_FOLDER = r\"Z:\\General\\CodeSets\"\n",
    "#TARGET_FILE = os.path.join(TARGET_FOLDER, \"20160226_DySmTm_48Codes.csv\")\n",
    "TARGET_FILE = os.path.join(TARGET_FOLDER, \"20150714_DySmTm_48Codes.csv\")\n",
    "target_load = np.genfromtxt(TARGET_FILE, delimiter=',')\n",
    "target = target_load[:, 1:4]  # Target set to Dy, Sm, Tm (no CeTb) Order: [CeTb, Dy, Sm, Tm]\n",
    "\n",
    "# Bead library information\n",
    "SEQ_FOLDER = r\"\"\n",
    "SEQ_FILE = os.path.join(SEQ_FOLDER, \"code2Sequence.xlsx\")\n",
    "sequences = pd.read_excel(SEQ_FILE)"
   ]
  },
  {
   "cell_type": "markdown",
   "metadata": {},
   "source": [
    "### Set up bead finding, icp, and gmix objects\n",
    "Except for BEAD_SIZE, these can all stay the default values. They are just expclicity displayed for reference. Technically they can be called like:\n",
    "- `icp = ba.ICP()`\n",
    "- `gmix = ba.Classify(target)`"
   ]
  },
  {
   "cell_type": "code",
   "execution_count": null,
   "metadata": {},
   "outputs": [],
   "source": [
    "bead_objects = mrbles.FindBeadsImaging(bead_size=12, border_clear=True)\n",
    "bead_objects.eccen_param = 0.65\n",
    "bead_objects.thr_block = 15\n",
    "bead_objects.thr_c = 11\n",
    "bead_objects.mask_bkg_buffer = 2\n",
    "bead_objects.mask_bkg_size = 11\n",
    "\n",
    "# ICP settings\n",
    "icp = mrbles.ICP(matrix_method='std', max_iter=100, tol=1e-4, outlier_pct=0.001, train=False)\n",
    "\n",
    "# GMM settings\n",
    "gmix = mrbles.Classify(target, tol=1e-5, min_covar=1e-7, sigma=1e-5, train=True)"
   ]
  },
  {
   "cell_type": "code",
   "execution_count": null,
   "metadata": {},
   "outputs": [],
   "source": []
  },
  {
   "cell_type": "markdown",
   "metadata": {},
   "source": [
    "### Setting up bead images"
   ]
  },
  {
   "cell_type": "code",
   "execution_count": null,
   "metadata": {},
   "outputs": [],
   "source": [
    "# Channel(s) settings\n",
    "ASSAY_CHANNELS = ['Cy5']  # Must be list!\n",
    "\n",
    "# slice(Y1, Y2) and slice(X1, X2) Y and X are reversed in array since rows (Y) go first and columns go second (X)\n",
    "# General Region or interest\n",
    "CROPx = slice(24, 1000)\n",
    "CROPy = slice(24, 1000)\n",
    "\n",
    "# Corresponding Flat-Field image\n",
    "FF_FOLDER = r\"Z:\\Data\\Setup 1\\[Flat-Field and Dark-Field Setup 1]\"\n",
    "FF_FILE = os.path.join(FF_FOLDER, \"20170815-FF-Cy5-500ms-169im-MED-BIN2-TopDown.tif\")\n",
    "flat_field = mrbles.tff.TiffFile(FF_FILE).asarray()\n",
    "flat_field = flat_field/flat_field.max()  # Normalize Flat-Field\n",
    "\n",
    "# Setting bead image folder and image patterns. This will select all images following the pattern.\n",
    "BEAD_IMAGE_FOLDER = r\"Z:\\Data\\Setup 1\\Huy\"\n",
    "# BEAD_IMAGE_PATTERNS = {\"NIR-PKIVIT-Flank\" : r\"20170802_HQN_PKIVIT_NIR_Flank_250nM_([1-9]|[1-9][0-9])_MMStack_Pos0.ome.tif\",\n",
    "#                        \"NIR-PKIVIT-Core\" : r\"20170802_HQN_PKIVIT_NIR_Pos1to6_250nM_([1-9]|[1-9][0-9])_MMStack_Pos0.ome.tif\",\n",
    "#                        \"NIR-PVIVIT-Flank\" : r\"20170919_HQN_CN_PVIVIT_Flank_NIR_([1-9]|[1-9][0-9])_MMStack_Pos0.ome.tif\",\n",
    "#                        \"NIR-PVIVIT-Core\" : r\"20170919_HQN_CN_PVIVIT_Pos1to6_NIR_([1-9]|[1-9][0-9])_MMStack_Pos0.ome.tif\",\n",
    "#                        \"NIR-AKAP79-Flank\" : r\"20170802_HQN_AKAP79_NIR_Flank_250nM_([1-9]|[1-9][0-9])_MMStack_Pos0.ome.tif\", \n",
    "#                        \"NIR-AKAP79-Core\" : r\"20170802_HQN_AKAP79_NIR_Pos1to6_250nM_([1-9]|[1-9][0-9])_MMStack_Pos0.ome.tif\",\n",
    "#                        \"NIR-NFATc2-Flank\" : \"20170802_HQN_NFATc2_NIR_Flank_250nM_([1-9]|[1-9][0-9])_MMStack_Pos0.ome.tif\",\n",
    "#                        #\"NIR-NFATc2-Core\" : r\"20170802_HQN_NFATc2_NIR_Pos1to6_250nM_([1-9]|[1-9][0-9])_MMStack_Pos0.ome.tif\",\n",
    "#                        \"NIR-NFATc2-Core\" : r\"20170802_HQN_NFATc2_NIR_Pos1to6_250nM_10ms_([1-9]|[1-9][0-9])_MMStack_Pos0.ome.tif\",\n",
    "#                        \"NIR-PxI2\" : r\"20171107_HQN_PxI2_NIR_100p200ms_([1-9]|[1-9][0-9])_MMStack_Pos0.ome.tif\"}\n",
    "\n",
    "# BEAD_IMAGE_PATTERNS = {\"aHis-PVIVIT-Core\" : r\"20170815_HQN_PVIVIT_Pos1to6_AntiHis_250nM_([1-9]|[1-9][0-9])_MMStack_Pos0.ome.tif\",\n",
    "#                        \"aHis-PVIVIT-Flank\" : r\"20170815_HQN_PVIVIT_Flank_AntiHis_250nM_([1-9]|[1-9][0-9])_MMStack_Pos0.ome.tif\",\n",
    "#                        \"aHis-PKIVIT-Core\" : r\"20170629_HQN_CN_PKIVIT_Pos1to6_Ab_control_([1-9]|[1-9][0-9])_MMStack_Pos0.ome.tif\",\n",
    "#                        \"aHis-PKIVIT-Flank\" : r\"20170629_HQN_CN_PKIVIT_Flank_Ab_control_([1-9]|[1-9][0-9])_MMStack_Pos0.ome.tif\",\n",
    "#                        \"aHis-AKAP79-Core\" : r\"20170815_HQN_AKAP79_Pos1to6_AntiHis_250nM_([1-9]|[1-9][0-9])_MMStack_Pos0.ome.tif\",\n",
    "#                        \"aHis-AKAP79-Flank\" : r\"20170815_HQN_AKAP79_Flank_AntiHis_250nM_([1-9]|[1-9][0-9])_MMStack_Pos0.ome.tif\",\n",
    "#                        \"aHis-NFATc2-Core\" : r\"20170815_HQN_NFATc2_Pos1to6_AntiHis_250nMb_([1-9]|[1-9][0-9])_MMStack_Pos0.ome.tif\",\n",
    "#                        \"aHis-NFATc2-Flank\" : r\"20170815_HQN_NFATc2_Flank_AntiHis_250nM_([1-9]|[1-9][0-9])_MMStack_Pos0.ome.tif\",\n",
    "#                        \"aHis-PxI2\" : \"20171107_HQN_PxI2_aHis_100p200ms_([1-9]|[1-9][0-9])_MMStack_Pos0.ome.tif\"}\n",
    "\n",
    "BEAD_IMAGE_PATTERNS = {\"NIR-PxI2\" : r\"20171107_HQN_PxI2_NIR_100p200ms_([1-9]|[1-9][0-9])_MMStack_Pos0.ome.tif\",\n",
    "                       \"aHis-PxI2\" : \"20171107_HQN_PxI2_aHis_100p200ms_([1-9]|[1-9][0-9])_MMStack_Pos0.ome.tif\"}\n",
    "\n",
    "#NORM_IMAGE_FOLDER = r\"Z:\\Data\\Setup 1\\Huy\"\n",
    "# NORM_IMAGE_PATTERN = {\"AKAP79-Flank\" : r\"20170629_HQN_CN_PKIVIT_Pos1to6_Biotinb_([1-9]|[1-9][0-9])_MMStack_Pos0.ome.tif\",\n",
    "#                       \"AKAP79-Core\" : r\"20170629_HQN_CN_PKIVIT_Pos1to6_Biotinb_([1-9]|[1-9][0-9])_MMStack_Pos0.ome.tif\",\n",
    "#                       \"NFATc2-Flank\" : r\"20170629_HQN_CN_PKIVIT_Pos1to6_Biotinb_([1-9]|[1-9][0-9])_MMStack_Pos0.ome.tif\",\n",
    "#                       \"NFATc2-Core\" : r\"20170629_HQN_CN_PKIVIT_Pos1to6_Biotinb_([1-9]|[1-9][0-9])_MMStack_Pos0.ome.tif\",\n",
    "#                       \"PKIVIT-Flank\" : r\"20170629_HQN_CN_PKIVIT_Pos1to6_Biotinb_([1-9]|[1-9][0-9])_MMStack_Pos0.ome.tif\",\n",
    "#                       \"PKIVIT-Core\" : r\"20170629_HQN_CN_PKIVIT_Pos1to6_Biotinb_([1-9]|[1-9][0-9])_MMStack_Pos0.ome.tif\",\n",
    "#                       \"PVIVIT-Flank\" : r\"20170629_HQN_CN_PKIVIT_Pos1to6_Biotinb_([1-9]|[1-9][0-9])_MMStack_Pos0.ome.tif\",\n",
    "#                       \"PVIVIT-Core\" : r\"20170629_HQN_CN_PKIVIT_Pos1to6_Biotinb_([1-9]|[1-9][0-9])_MMStack_Pos0.ome.tif\"}\n",
    "NORM_IMAGE_PATTERN = {}\n",
    "NORM_IMAGE_PATTERN[\"AKAP79-Flank\"] = pd.read_csv(r'G:\\Team Drives\\Calcineurin\\CalcineurinBinding\\Pyhton Data Analysis\\20170811 - AKAP79\\20170905 - 20170811-AKAP79-Redo-Flank - NewFF-LargerCircleROI - per bead - Biotin.csv')\n",
    "NORM_IMAGE_PATTERN[\"AKAP79-Core\"] = pd.read_csv(r'G:\\Team Drives\\Calcineurin\\CalcineurinBinding\\Pyhton Data Analysis\\20170811 - AKAP79\\20170905 - 20170811-AKAP79-Redo-Pos1to6 - NewFF-LargerCircleROI - per bead - Biotin.csv')\n",
    "NORM_IMAGE_PATTERN[\"NFATc2-Flank\"] = pd.read_csv(r'G:\\Team Drives\\Calcineurin\\CalcineurinBinding\\Pyhton Data Analysis\\20170814 - NFATc2\\20170830 - 20170814-NFATc2-Flank - REDO-NewFF-LargerCircleROI - per bead - Biotin.csv')\n",
    "NORM_IMAGE_PATTERN[\"NFATc2-Core\"] = pd.read_csv(r'G:\\Team Drives\\Calcineurin\\CalcineurinBinding\\Pyhton Data Analysis\\20170814 - NFATc2\\20170830 - 20170814-NFATc2-Pos1to6 - REDO-Correct2uMImg-NewFF-LargerCircleROI - per bead - Biotin.csv')\n",
    "NORM_IMAGE_PATTERN[\"PKIVIT-Flank\"] = pd.read_csv(r'G:\\Team Drives\\Calcineurin\\CalcineurinBinding\\Pyhton Data Analysis\\20170829 - PKIVIT Redo\\20170905 - 20170829-PKIVIT-Redo-Flank - NewFF-LargerCircleROI - per bead - Biotin.csv')\n",
    "NORM_IMAGE_PATTERN[\"PKIVIT-Core\"] = pd.read_csv(r'G:\\Team Drives\\Calcineurin\\CalcineurinBinding\\Pyhton Data Analysis\\20170829 - PKIVIT Redo\\20170905 - 20170829-PKIVIT-Redo-Pos1to6 - NewFF-LargerCircleROI - per bead - Biotin.csv')\n",
    "NORM_IMAGE_PATTERN[\"PVIVIT-Flank\"] = pd.read_csv(r'G:\\Team Drives\\Calcineurin\\CalcineurinBinding\\Pyhton Data Analysis\\20170810 - PVIVIT\\20170906 - 20170810-PVIVIT-Redo-Flank - NewFF-LargerCircleROI - per bead - Biotin.csv')\n",
    "NORM_IMAGE_PATTERN[\"PVIVIT-Core\"] = pd.read_csv(r'G:\\Team Drives\\Calcineurin\\CalcineurinBinding\\Pyhton Data Analysis\\20170810 - PVIVIT\\20170906 - 20170810-PVIVIT-Redo-Pos1to6 - NewFF-LargerCircleROI - per bead - Biotin.csv')\n",
    "NORM_IMAGE_PATTERN[\"PxI2\"] = pd.read_csv(r\"PxIxIT2_biotin.csv\")\n",
    "NORM_CHANNEL = 'Cy5_5%'\n",
    "\n",
    "# Search for files matching the patter in the bead image folder\n",
    "#bead_image_files = ba.ImageSetRead.scan_path(BEAD_IMAGE_FOLDER, BEAD_IMAGE_PATTERNS['aHis-PVIVIT-Flank'])\n",
    "#bead_image_files = ba.ImageSetRead.scan_path(NORM_IMAGE_FOLDER, NORM_IMAGE_PATTERN['biotin'])\n",
    "# Load images. This may take some time.\n",
    "#bead_image_obj = ba.ImageSetRead(bead_image_files)\n",
    "#print(bead_image_obj.c_names) # Print channel names\n",
    "\n",
    "# Image shift correction for assay channel(s)\n",
    "shift_x = 0\n",
    "shift_y = 0\n",
    "CROPx_shift = slice(CROPx.start+shift_x, CROPx.stop+shift_x)\n",
    "CROPy_shift = slice(CROPy.start+shift_y, CROPy.stop+shift_y)"
   ]
  },
  {
   "cell_type": "code",
   "execution_count": null,
   "metadata": {},
   "outputs": [],
   "source": [
    "#bead_image_files"
   ]
  },
  {
   "cell_type": "code",
   "execution_count": null,
   "metadata": {
    "scrolled": true
   },
   "outputs": [],
   "source": []
  },
  {
   "cell_type": "code",
   "execution_count": null,
   "metadata": {},
   "outputs": [],
   "source": [
    "def bead_data_function(image_folder, image_patterns, assay_channels, norm_data=None, norm_channel=None):\n",
    "    bead_sets_per_bead = {}\n",
    "    bead_sets_per_code = {}\n",
    "    bead_images_channels = {}\n",
    "    bead_set_data_per_bead = {}\n",
    "    bead_set_data_per_code = {}\n",
    "    labels_all_bead = {}\n",
    "    labels_all_inside = {}\n",
    "    labels_all_annulus = {}\n",
    "    labels_all_bkg = {}\n",
    "    for pattern_key, pattern in image_patterns.items():\n",
    "        print(\"Analyzing condition: %s\" %(pattern_key))\n",
    "        # Search for files matching the patter in the bead image folder\n",
    "        bead_image_files = mrbles.ImageSetRead.scan_path(image_folder, pattern)\n",
    "        # Load images. This may take some time.\n",
    "        bead_image_obj = mrbles.ImageSetRead(bead_image_files)\n",
    "        # Load decode channsls\n",
    "        bead_images_decode = bead_image_obj[:,DECODE_CHANNELS, CROPy, CROPx]\n",
    "        # Load object channel\n",
    "        bead_images_object = bead_image_obj[:,OBJECT_CHANNEL, CROPy_shift, CROPx_shift]\n",
    "        # Load assay channel(s)\n",
    "        if type(assay_channels) is not list:\n",
    "            assay_channels = [assay_channels]\n",
    "        for channel_idx, channel in enumerate(assay_channels):\n",
    "            print(\"Analyzing channel: %s\" %(channel))\n",
    "            # Assign images, crop, and FF-correct\n",
    "            assay_images = bead_image_obj[:,channel, CROPy_shift, CROPx_shift] / flat_field[CROPy_shift, CROPx_shift]\n",
    "            \n",
    "            # Setup Pandas DataFrame\n",
    "            bead_set = \\\n",
    "                pd.DataFrame(columns=['img', 'lbl',                           # Image and label number of bead\n",
    "                                      'dim_x', 'dim_y', 'dim_r', 'dim_area',  # Bead dimensions\n",
    "                                      'bkg', 'ref',                           # Background and Reference data\n",
    "                                      'rat_dy', 'rat_sm', 'rat_tm',           # Ratio data\n",
    "                                       channel])                              # Assay data\n",
    "            \n",
    "            # Find beads and create masks\n",
    "            labels_bead = []\n",
    "            labels_inside = []\n",
    "            labels_annulus = []\n",
    "            labels_bkg = []\n",
    "            skipped = []\n",
    "            kept = list(range(len(bead_images_object)))\n",
    "            bead_no = 0\n",
    "            for idx in range(len(bead_images_object)):\n",
    "                if bead_no == 0:\n",
    "                    bead_objects.find(bead_images_object[idx], circle_size=340)\n",
    "                    range_rad = [bead_objects._mask_radius]\n",
    "                else:\n",
    "                    bead_objects.find(bead_images_object[idx], circle_size=340)\n",
    "                if bead_objects.bead_num < 1:\n",
    "                    skipped.append(idx)\n",
    "                    kept.remove(idx)\n",
    "                    print(\"Removed image %i\" % (idx+1))\n",
    "                    continue\n",
    "                print(\"Found %i beads in image %i\" %(bead_objects.bead_num, idx+1))\n",
    "                #labels_inside.append(bead_objects.mask_inside)\n",
    "                labels_inside.append(bead_objects.morph_mask_step(-1,bead_objects.mask_inside))\n",
    "                labels_bead.append(bead_objects.mask_bead)\n",
    "                labels_annulus.append(bead_objects.mask_ring)\n",
    "                labels_bkg.append(bead_objects.mask_bkg)\n",
    "                circles_dim = bead_objects.bead_dims_bead.as_matrix()\n",
    "                for lbl_idx, lbl in enumerate(bead_objects.bead_labels):\n",
    "                    bead_set.loc[bead_no,('img', 'lbl', \n",
    "                                          'dim_x', 'dim_y', 'dim_r', 'dim_area')] = [idx, lbl, \n",
    "                         circles_dim[lbl_idx, 1], circles_dim[lbl_idx, 2], circles_dim[lbl_idx, 3], circles_dim[lbl_idx, 4]]\n",
    "                    bead_no += 1\n",
    "                    \n",
    "#                 image_cc = color.gray2rgb(bead_objects._masked_img)\n",
    "#                 dims = np.array(np.round(bead_objects.bead_dims_bead.loc[:,('y_centroid','x_centroid','radius')].values), dtype=np.int)\n",
    "#                 for center_y, center_x, radius in zip(dims[:,0], dims[:,1], dims[:,2]):\n",
    "#                     line_y = slice(center_y-radius, center_y+radius)\n",
    "#                     line_x = slice(center_x-radius, center_x+radius)\n",
    "#                     image_cc[center_y, line_x] = (20, 20, 220)\n",
    "#                     image_cc[line_y, center_x] = (20, 20, 220)\n",
    "#                 plt.figure(dpi=100)\n",
    "#                 plt.imshow(image_cc, cmap=plt.cm.gray)\n",
    "                \n",
    "            print(\"Total number of beads found: %s\" % bead_no)\n",
    "            \n",
    "            # Save labeled masks\n",
    "            labels_all_bead[channel] = labels_bead\n",
    "            labels_all_inside[channel] = labels_inside\n",
    "            labels_all_annulus[channel] = labels_annulus\n",
    "            labels_all_bkg[channel] = labels_bkg\n",
    "\n",
    "            # Delete skipped images\n",
    "            bead_images_object = np.delete(bead_images_object, skipped, axis=0)\n",
    "            bead_images_decode = np.delete(bead_images_decode, skipped, axis=0)\n",
    "            assay_images = np.delete(assay_images, skipped, axis=0)\n",
    "            \n",
    "            # Spectral unmix object\n",
    "            spec_unmix = mrbles.SpectralUnmixing(ref_data_object)\n",
    "\n",
    "            # Set bead number to 0\n",
    "            bead_no = 0\n",
    "            for lbls_idx, lbls in enumerate(labels_inside):\n",
    "                # Get bead labels\n",
    "                idx = bead_objects.get_unique_values(lbls)\n",
    "\n",
    "                # Spectrally unmix\n",
    "                spec_unmix.unmix(bead_images_decode[lbls_idx])\n",
    "\n",
    "                # Set background and reference images\n",
    "                background = spec_unmix['Bkg']  # Device background\n",
    "                reference = spec_unmix['Eu']    # Internal reference: Eu\n",
    "\n",
    "                # Make ratio images\n",
    "                ratio_Dy = spec_unmix['Dy'] / reference\n",
    "                ratio_Sm = spec_unmix['Sm'] / reference\n",
    "                ratio_Tm = spec_unmix['Tm'] / reference\n",
    "\n",
    "                # Get ratios from images\n",
    "                ratio_data = np.empty((len(idx), target[0].size))\n",
    "                ratio_data[:, 0] = ndi.labeled_comprehension(ratio_Dy, lbls, idx, np.median, float, -1)\n",
    "                ratio_data[:, 1] = ndi.labeled_comprehension(ratio_Sm, lbls, idx, np.median, float, -1)\n",
    "                ratio_data[:, 2] = ndi.labeled_comprehension(ratio_Tm, lbls, idx, np.median, float, -1)\n",
    "\n",
    "                # Get background and reference data from ratio images\n",
    "                background_data = ndi.labeled_comprehension(background, lbls, idx, np.median, float, -1)\n",
    "                reference_data = ndi.labeled_comprehension(reference, lbls, idx, np.median, float, -1)\n",
    "\n",
    "                # Get assay channel data\n",
    "                assay_data = ndi.labeled_comprehension(assay_images[lbls_idx], labels_annulus[lbls_idx], idx, np.median, float, -1)\n",
    "\n",
    "                # Subtract background global per image\n",
    "                #assay_back_glob = ndi.labeled_comprehension(assay_images[lbls_idx], labels_bead[lbls_idx], 0, np.median, float, -1)\n",
    "                #assay_data_glob = assay_data - assay_back_glob   # Subtract global background value\n",
    "                #assay_data_glob[assay_data_glob < 0] = 0     # Set threshold to 0\n",
    "                #assay_data_final = assay_data_glob    \n",
    "\n",
    "                # Subtract background local per bead\n",
    "                assay_back_local = ndi.labeled_comprehension(assay_images[lbls_idx], labels_bkg[lbls_idx], idx, np.median, float, -1)\n",
    "                assay_data_local = assay_data - assay_back_local  # Subtract global background value\n",
    "                #assay_data_local[assay_data_local < 0] = 0    # Set threshold to 0\n",
    "                assay_data_final = assay_data_local\n",
    "\n",
    "                for lbl in range(bead_objects.get_unique_count(lbls)):\n",
    "                    bead_set.loc[bead_no,('rat_dy', 'rat_sm', 'rat_tm', \n",
    "                                          'bkg', 'ref', \n",
    "                                           channel)] = [ratio_data[lbl,0], ratio_data[lbl,1], ratio_data[lbl,2], \n",
    "                                                      background_data[lbl], reference_data[lbl], \n",
    "                                                      assay_data_final[lbl]]\n",
    "                    bead_no += 1\n",
    "                    \n",
    "            # Filtering\n",
    "            mask_bkg    = ( (bead_set.bkg > (bead_set.bkg.mean() - back_std_factor * bead_set.bkg.std())) &\\\n",
    "                            (bead_set.bkg < (bead_set.bkg.mean() + back_std_factor * bead_set.bkg.std())) )\n",
    "            mask_ref    = ( (bead_set.ref > (bead_set.ref.mean() - reference_std_factor_low * bead_set.ref.std())) &\\\n",
    "                            (bead_set.ref < (bead_set.ref.mean() + reference_std_factor_high * bead_set.ref.std())) )\n",
    "            filter_all = (mask_bkg & mask_ref)\n",
    "\n",
    "            print(\"Pre filter: %s\" % bead_set.index.size)\n",
    "            print(\"Post filter: %s\" % bead_set[filter_all].index.size)\n",
    "\n",
    "            # Pre-filter post-filter images\n",
    "            for x in range(3):\n",
    "                idx = random.choice(range(len(assay_images)))\n",
    "                fig = plt.figure(dpi=150)\n",
    "                dims_post = bead_set.loc[(bead_set['img'] == kept[idx]), ('dim_x','dim_y','dim_r')].values\n",
    "                ax = fig.add_subplot(1,2,1)\n",
    "                ax.axis('off')\n",
    "                fig.suptitle(\"Overlay Image Pre-filter image #: %s\" % idx)\n",
    "                mrbles.FindBeadsImaging.show_cross_overlay(image=bead_images_object[idx], dims=dims_post)\n",
    "                #mrbles.FindBeadsImaging.show_image_overlay(assay_images[idx], labels_annulus[idx])\n",
    "                #ax = fig.add_subplot(1,3,2)\n",
    "                \n",
    "                c_dims_post = bead_set.loc[filter_all & (bead_set['img'] == kept[idx]), ('dim_x','dim_y','dim_r')].values\n",
    "                #ax.imshow(mrbles.FindBeadsImaging.cirle_overlay(assay_images[idx], dims=c_dims_post), \n",
    "                #          cmap='Greys_r')\n",
    "                ax = fig.add_subplot(1,2,2)\n",
    "                ax.axis('off')\n",
    "                fig.suptitle(\"Overlay Image Post-filter image #: %s\" % idx)\n",
    "                mrbles.FindBeadsImaging.show_cross_overlay(image=bead_images_object[idx], dims=c_dims_post)\n",
    "                \n",
    "            # ICP\n",
    "            icp.fit(bead_set.loc[filter_all, ('rat_dy', 'rat_sm', 'rat_tm')], target)\n",
    "            bead_set = bead_set.combine_first(icp.transform())\n",
    "            print(\"Tranformation matrix: \", icp.matrix)\n",
    "            print(\"Offset vector: \", icp.offset)\n",
    "            \n",
    "            # GMM\n",
    "            gmix.decode(bead_set.loc[filter_all, ('rat_dy_icp', 'rat_sm_icp', 'rat_tm_icp')])\n",
    "            bead_set = bead_set.combine_first(gmix.output)\n",
    "            print(\"Number of unique codes found:\", gmix.found)\n",
    "            print(\"Missing codes:\", gmix.missing)\n",
    "            s_score = silhouette_score(bead_set.loc[filter_all, ('rat_dy_icp', 'rat_sm_icp', 'rat_tm_icp')], gmix.output.code)\n",
    "            print(\"Silhouette Coefficient:\", s_score)\n",
    "            print(\"AIC:\", gmix._gmix.aic(bead_set.loc[filter_all, ('rat_dy_icp', 'rat_sm_icp', 'rat_tm_icp')]))\n",
    "            print(\"BIC:\", gmix._gmix.bic(bead_set.loc[filter_all, ('rat_dy_icp', 'rat_sm_icp', 'rat_tm_icp')]))\n",
    "            \n",
    "            print(\"Pre-filter:\", bead_no)\n",
    "            print(\"Pre log-prob filter:\", bead_set.loc[(bead_set.code >= 0)].shape[0])\n",
    "            print(\"Final beads no.:\", bead_set.loc[(bead_set.code >= 0) & (bead_set.log_prob > set_prob)].shape[0])\n",
    "            print(\"Total filtered out: %0.2f%%\" % ((1-bead_set.loc[(bead_set.code >= 0) & (bead_set.log_prob > set_prob)].shape[0] / bead_set.shape[0])*100))\n",
    "            print(\"Filtered/Total: %i/%i\" % (bead_set.shape[0] - bead_set.loc[(bead_set.code >= 0) & (bead_set.log_prob > set_prob)].shape[0], bead_set.shape[0])) \n",
    "            \n",
    "            bead_set_data_per_bead[channel] = bead_set\n",
    "            \n",
    "            biotin_string = pattern_key.split(\"-\",1)[1]\n",
    "            print(biotin_string)\n",
    "            norm_data_sub = norm_data[biotin_string]\n",
    "            \n",
    "            #bead_set_data_per_code[channel] = mrbles.simp.get_stats_per_code(bead_set[bead_set.log_prob > set_prob], channel, norm=norm_data_sub[norm_data_sub.log_prob > set_prob], norm_channel=norm_channel, codes=48)\n",
    "            bead_set_data_per_code[channel] = mrbles.simp.get_stats_per_code(bead_set[bead_set.log_prob > set_prob], channel, norm=norm_data_sub, norm_channel=norm_channel, codes=48)\n",
    "            bead_images_channels[channel] = assay_images\n",
    "        bead_sets_per_bead[pattern_key] = pd.concat(bead_set_data_per_bead)\n",
    "        bead_sets_per_code[pattern_key] = pd.concat(bead_set_data_per_code)\n",
    "    return pd.concat(bead_sets_per_bead), pd.concat(bead_sets_per_code)"
   ]
  },
  {
   "cell_type": "markdown",
   "metadata": {},
   "source": [
    "#### Loading bead images, selecting bead images, and flatfield correction"
   ]
  },
  {
   "cell_type": "code",
   "execution_count": null,
   "metadata": {},
   "outputs": [],
   "source": []
  },
  {
   "cell_type": "code",
   "execution_count": null,
   "metadata": {
    "scrolled": true
   },
   "outputs": [],
   "source": [
    "#bead_norm_per_bead"
   ]
  },
  {
   "cell_type": "code",
   "execution_count": null,
   "metadata": {
    "scrolled": true
   },
   "outputs": [],
   "source": [
    "#bead_norm_per_bead, bead_norm_per_code = bead_data_function(NORM_IMAGE_FOLDER, NORM_IMAGE_PATTERN, NORM_CHANNEL)"
   ]
  },
  {
   "cell_type": "code",
   "execution_count": null,
   "metadata": {},
   "outputs": [],
   "source": [
    "#fig = ba.inspect.cluster3d_check(bead_norm_per_bead, target, gmix, set_prob=set_prob)\n",
    "#py.iplot(fig, filename='TEST/3D-Cluster')  # Online"
   ]
  },
  {
   "cell_type": "code",
   "execution_count": null,
   "metadata": {
    "scrolled": false
   },
   "outputs": [],
   "source": [
    "bead_sets_per_bead, bead_sets_per_code = bead_data_function(BEAD_IMAGE_FOLDER, BEAD_IMAGE_PATTERNS, ASSAY_CHANNELS, NORM_IMAGE_PATTERN, NORM_CHANNEL)"
   ]
  },
  {
   "cell_type": "markdown",
   "metadata": {},
   "source": [
    "### Per code stats"
   ]
  },
  {
   "cell_type": "code",
   "execution_count": null,
   "metadata": {
    "scrolled": true
   },
   "outputs": [],
   "source": [
    "bead_sets_per_code"
   ]
  },
  {
   "cell_type": "markdown",
   "metadata": {},
   "source": [
    "### Per bead data"
   ]
  },
  {
   "cell_type": "code",
   "execution_count": null,
   "metadata": {
    "scrolled": true
   },
   "outputs": [],
   "source": [
    "bead_sets_per_bead"
   ]
  },
  {
   "cell_type": "markdown",
   "metadata": {},
   "source": [
    "### Data export"
   ]
  },
  {
   "cell_type": "code",
   "execution_count": null,
   "metadata": {},
   "outputs": [],
   "source": [
    "#folder_prefix = r\"Z:\\Data\\Setup 1\\Huy\\20170731 PKIVIT\\20170814 - Folder 20170731 PKIVIT - Pos1to6 - \"\n",
    "#folder_prefix = r\"G:\\Team Drives\\Calcineurin\\CalcineurinBinding\\Pyhton Data Analysis\\20171105 - NIR aHis\\20171105 NIR - \"\n",
    "folder_prefix = r\"G:\\Team Drives\\Calcineurin\\CalcineurinBinding\\Pyhton Data Analysis\\20171105 - NIR aHis\\20171109 PxI2 aHis-NIR - \"\n",
    "\n",
    "# Export to Excel.\n",
    "# bead_sets_per_bead.to_excel(r\"%sper bead - NOT NORM.xlsx\"%folder_prefix)\n",
    "# bead_sets_per_code.to_excel(r\"%sper code - NORM.xlsx\"%folder_prefix)\n",
    "# bead_norm_per_bead.to_excel(r\"%sper bead - Biotin.xlsx\"%folder_prefix)\n",
    "# bead_norm_per_code.to_excel(r\"%sper code - Biotin.xlsx\"%folder_prefix)\n",
    "\n",
    "# Export to CSV.\n",
    "#bead_sets_per_bead.to_csv(r\"%sper bead - NOT NORM.csv\"%folder_prefix)\n",
    "#bead_sets_per_code.to_csv(r\"%sper code - NORM.csv\"%folder_prefix)\n",
    "#bead_norm_per_bead.to_csv(r\"%sper bead - Biotin.csv\"%folder_prefix)\n",
    "#bead_norm_per_code.to_csv(r\"%sper code - Biotin.csv\"%folder_prefix)\n",
    "\n",
    "# Export to Python dataframe: Pickle. Best for keeping oroginal data structure.\n",
    "# bead_sets_per_bead.to_pickle(r\"%sper bead - NOT NORM.pickle\"%folder_prefix)\n",
    "# bead_sets_per_code.to_pickle(r\"%sper code - NORM.pickle\"%folder_prefix)\n",
    "# bead_norm_per_bead.to_pickle(r\"%sper bead - Biotin.pickle\"%folder_prefix)\n",
    "# bead_norm_per_code.to_pickle(r\"%sper code - Biotin.pickle\"%folder_prefix)"
   ]
  },
  {
   "cell_type": "markdown",
   "metadata": {},
   "source": [
    "## Graphs"
   ]
  },
  {
   "cell_type": "markdown",
   "metadata": {
    "collapsed": true
   },
   "source": [
    "### Histogram bead data"
   ]
  },
  {
   "cell_type": "code",
   "execution_count": null,
   "metadata": {},
   "outputs": [],
   "source": [
    "data = bead_sets_per_bead.loc[('2000 nM', 'Cy5')]\n",
    "x1 = data.loc[(data.log_prob > set_prob)].Cy5\n",
    "\n",
    "trace_1 = go.Histogram(\n",
    "    name='2000 nM NFATc Pos1to6',\n",
    "    x=x1,\n",
    "    opacity=0.75\n",
    ")\n",
    "\n",
    "data = [trace_1]\n",
    "layout = go.Layout(\n",
    "    barmode='overlay',\n",
    "    yaxis=dict(\n",
    "        title=\"Fluorescence Intensity [A.U.]\"\n",
    "        )\n",
    ")\n",
    "\n",
    "fig = go.Figure(data=data, layout=layout)\n",
    "\n",
    "py.iplot(fig, filename='TEST/Histogram')"
   ]
  },
  {
   "cell_type": "markdown",
   "metadata": {},
   "source": [
    "### Bar-Plot - Separated Codes"
   ]
  },
  {
   "cell_type": "code",
   "execution_count": null,
   "metadata": {},
   "outputs": [],
   "source": [
    "seq_names = []\n",
    "seq_N = []\n",
    "for seq_idx, seq_name in enumerate(sequences.sequence):\n",
    "    seq_names.append(\"%i - %s\" %(seq_idx+1, seq_name))\n",
    "\n",
    "conc_name = '63 nM'\n",
    "data_1 = bead_sets_per_code.loc[(conc_name, 'Cy5')]\n",
    "N_1 = data_1.N.sum()\n",
    "x1 = data_1.loc[(data_1.code >= 0)]\n",
    "\n",
    "trace_1_bar = go.Bar(\n",
    "    x=seq_names,\n",
    "    y=x1.AVG_NORM,\n",
    "    name=\"%s N=[%i]\" %(conc_name, N_1),\n",
    "    text=x1.N,\n",
    "    error_y=dict(\n",
    "        type='data',\n",
    "        array=x1.SEM_NORM,\n",
    "        visible=True\n",
    "    )\n",
    ")\n",
    "\n",
    "conc_name = '2000 nM'\n",
    "data_2 = bead_sets_per_code.loc[(conc_name, 'Cy5')]\n",
    "N_2 = data_2.N.sum()\n",
    "x2 = data_2.loc[(data_1.code >= 0)]\n",
    "\n",
    "trace_2_bar = go.Bar(\n",
    "    x=seq_names,\n",
    "    y=x2.AVG_NORM,\n",
    "    name=\"%s N=[%i]\" %(conc_name, N_2),\n",
    "    text=x2.N,\n",
    "    error_y=dict(\n",
    "        type='data',\n",
    "        array=x2.SEM_NORM,\n",
    "        visible=True\n",
    "    )\n",
    ")\n",
    "\n",
    "data = [trace_1_bar, trace_2_bar]\n",
    "\n",
    "layout = go.Layout( \n",
    "    yaxis=dict(\n",
    "        title=\"Fluorescence Intensity [A.U.]\"\n",
    "        ),\n",
    "    margin=go.Margin(\n",
    "        b=140\n",
    "    ),\n",
    "    legend=dict(\n",
    "        x=0,\n",
    "        y=1.0,\n",
    "        bgcolor='rgba(255, 255, 255, 0)',\n",
    "        bordercolor='rgba(255, 255, 255, 0)'\n",
    "    ),\n",
    "    barmode='group',\n",
    "    bargap=0.15,\n",
    "    bargroupgap=0.2\n",
    ")\n",
    "\n",
    "fig = go.Figure(data=data, layout=layout)\n",
    "py.iplot(fig, filename='CN/NFATc/Bar-Plot-Separate')"
   ]
  },
  {
   "cell_type": "code",
   "execution_count": null,
   "metadata": {},
   "outputs": [],
   "source": []
  },
  {
   "cell_type": "code",
   "execution_count": null,
   "metadata": {},
   "outputs": [],
   "source": [
    "concs = [63,125,250,500,1000,2000]\n",
    "line_data = []\n",
    "for seq_idx, seq in enumerate(sequences.sequence):\n",
    "    conc_data = []\n",
    "    conc_data_se = []\n",
    "    for conc_label in concs:\n",
    "        data = bead_sets_per_code[bead_sets_per_code.code==seq_idx].loc[('%s nM'%conc_label)]\n",
    "        conc_data.append(data.MED_NORM) # MED_NORM for normalized Median, AVG_NORM for normalized Mean\n",
    "        conc_data_se.append(data.SEM_NORM) # SEM_NORM for normalized SEM, SD_NORM for normalized SD\n",
    "    line_data.append(\n",
    "        go.Scatter(\n",
    "            x=concs,\n",
    "            y=conc_data,\n",
    "            name=seq,\n",
    "            error_y=dict(\n",
    "                type='data',\n",
    "                array=conc_data_se,\n",
    "                visible=True\n",
    "            )\n",
    "        )\n",
    "    )\n",
    "\n",
    "layout = go.Layout( \n",
    "    title=\"Calcineurin - NFATc - Position 1-6 Sequences\",\n",
    "    xaxis=dict(\n",
    "        title=\"Concentration [nM]\"\n",
    "        ),\n",
    "    yaxis=dict(\n",
    "        title=\"Mean Fluorescence Intensity +/- SD [A.U.]\"\n",
    "        ),\n",
    "    legend=dict(\n",
    "        x=0,\n",
    "        y=1.0,\n",
    "        bgcolor='rgba(255, 255, 255, 0)',\n",
    "        bordercolor='rgba(255, 255, 255, 0)'\n",
    "    )\n",
    ")\n",
    "\n",
    "fig = go.Figure(data=line_data, layout=layout)\n",
    "py.iplot(fig, filename='CN/NFATc/Scatter-Plot-All')"
   ]
  }
 ],
 "metadata": {
  "kernelspec": {
   "display_name": "Python 3",
   "language": "python",
   "name": "python3"
  },
  "language_info": {
   "codemirror_mode": {
    "name": "ipython",
    "version": 3
   },
   "file_extension": ".py",
   "mimetype": "text/x-python",
   "name": "python",
   "nbconvert_exporter": "python",
   "pygments_lexer": "ipython3",
   "version": "3.6.4"
  }
 },
 "nbformat": 4,
 "nbformat_minor": 2
}
