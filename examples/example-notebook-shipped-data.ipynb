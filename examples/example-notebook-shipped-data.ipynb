{
 "cells": [
  {
   "cell_type": "markdown",
   "metadata": {},
   "source": [
    "# Example Jupyter-Notebook for mrbles analysis package"
   ]
  },
  {
   "cell_type": "markdown",
   "metadata": {},
   "source": [
    "#### *Author: Björn Harink*  \n",
    "*Last update: 20180625*  \n",
    "*Set: PyPI shipped example data*  \n",
    "*Description:* Short pipeline example for mrbles analysis package using shipped sample data."
   ]
  },
  {
   "cell_type": "markdown",
   "metadata": {},
   "source": [
    "Load mrbles package. This should depict:\n",
    "\n",
    "`Copyright 2015-2018 - The Encoded Beads Project - ThornLab@UCSF and FordyceLab@Stanford  - Version:  0.10.0`"
   ]
  },
  {
   "cell_type": "code",
   "execution_count": 1,
   "metadata": {},
   "outputs": [
    {
     "name": "stdout",
     "output_type": "stream",
     "text": [
      "Copyright 2015-2018 - The Encoded Beads Project - ThornLab@UCSF and FordyceLab@Stanford  - Version:  0.11.1\n"
     ]
    }
   ],
   "source": [
    "import mrbles"
   ]
  },
  {
   "cell_type": "markdown",
   "metadata": {},
   "source": [
    "Additional required imports"
   ]
  },
  {
   "cell_type": "code",
   "execution_count": 2,
   "metadata": {},
   "outputs": [],
   "source": [
    "import pandas as pd\n",
    "from matplotlib import pyplot as plt"
   ]
  },
  {
   "cell_type": "markdown",
   "metadata": {},
   "source": [
    "Get the package folder to access the shipped data."
   ]
  },
  {
   "cell_type": "code",
   "execution_count": 3,
   "metadata": {},
   "outputs": [],
   "source": [
    "package_path = mrbles.__path__[0].replace(mrbles.__package__, '') + 'data'"
   ]
  },
  {
   "cell_type": "code",
   "execution_count": 4,
   "metadata": {},
   "outputs": [
    {
     "data": {
      "text/plain": [
       "'G:\\\\My Drive\\\\[Stanford]\\\\DEV\\\\Encoded Beads Project\\\\Bead Analysis\\\\data'"
      ]
     },
     "execution_count": 4,
     "metadata": {},
     "output_type": "execute_result"
    }
   ],
   "source": [
    "package_path"
   ]
  },
  {
   "cell_type": "markdown",
   "metadata": {},
   "source": [
    "## Load MRBLE library information"
   ]
  },
  {
   "cell_type": "markdown",
   "metadata": {},
   "source": [
    "Load excel file with information about the the MRBLES library. Please use example file.\n",
    "\n",
    "Main information that needs to in there are the different ratios (e.g. Dy, Sm, Tm). The code number starts from 0 and is based on the row number. Additional code numbers can be given (for instance when using a partial code set), but this not influence the code calling. All additional columns  provided in the classes are added as information, with a `info.` as prefix."
   ]
  },
  {
   "cell_type": "code",
   "execution_count": 5,
   "metadata": {},
   "outputs": [],
   "source": [
    "mrbles_library_info = pd.read_excel(package_path + '\\\\mrbles-library-info-example.xlsx')"
   ]
  },
  {
   "cell_type": "code",
   "execution_count": 6,
   "metadata": {
    "scrolled": true
   },
   "outputs": [
    {
     "data": {
      "text/html": [
       "<div>\n",
       "<style scoped>\n",
       "    .dataframe tbody tr th:only-of-type {\n",
       "        vertical-align: middle;\n",
       "    }\n",
       "\n",
       "    .dataframe tbody tr th {\n",
       "        vertical-align: top;\n",
       "    }\n",
       "\n",
       "    .dataframe thead th {\n",
       "        text-align: right;\n",
       "    }\n",
       "</style>\n",
       "<table border=\"1\" class=\"dataframe\">\n",
       "  <thead>\n",
       "    <tr style=\"text-align: right;\">\n",
       "      <th></th>\n",
       "      <th>code</th>\n",
       "      <th>sequence</th>\n",
       "      <th>repeat</th>\n",
       "      <th>set</th>\n",
       "      <th>info</th>\n",
       "      <th>Dy</th>\n",
       "      <th>Sm</th>\n",
       "      <th>Tm</th>\n",
       "    </tr>\n",
       "  </thead>\n",
       "  <tbody>\n",
       "    <tr>\n",
       "      <th>0</th>\n",
       "      <td>1</td>\n",
       "      <td>AGIVPIHVTHAPGEE</td>\n",
       "      <td>NaN</td>\n",
       "      <td>match</td>\n",
       "      <td>Scramble</td>\n",
       "      <td>0.00000</td>\n",
       "      <td>0.00000</td>\n",
       "      <td>0.00000</td>\n",
       "    </tr>\n",
       "    <tr>\n",
       "      <th>1</th>\n",
       "      <td>2</td>\n",
       "      <td>HPVIVITGPHEE</td>\n",
       "      <td>NaN</td>\n",
       "      <td>match</td>\n",
       "      <td>PVIVIT-WT</td>\n",
       "      <td>0.00000</td>\n",
       "      <td>0.00000</td>\n",
       "      <td>0.08449</td>\n",
       "    </tr>\n",
       "    <tr>\n",
       "      <th>2</th>\n",
       "      <td>3</td>\n",
       "      <td>HPRIVITGPHEE</td>\n",
       "      <td>NaN</td>\n",
       "      <td>match</td>\n",
       "      <td>PVIVIT-Core</td>\n",
       "      <td>0.00000</td>\n",
       "      <td>0.00000</td>\n",
       "      <td>0.28960</td>\n",
       "    </tr>\n",
       "    <tr>\n",
       "      <th>3</th>\n",
       "      <td>4</td>\n",
       "      <td>HPLIVITGPHEE</td>\n",
       "      <td>NaN</td>\n",
       "      <td>match</td>\n",
       "      <td>PVIVIT-Core</td>\n",
       "      <td>0.00000</td>\n",
       "      <td>0.00000</td>\n",
       "      <td>0.78752</td>\n",
       "    </tr>\n",
       "    <tr>\n",
       "      <th>4</th>\n",
       "      <td>5</td>\n",
       "      <td>HPVIVIEGPHEE</td>\n",
       "      <td>NaN</td>\n",
       "      <td>match</td>\n",
       "      <td>PVIVIT-Core</td>\n",
       "      <td>0.00000</td>\n",
       "      <td>0.10822</td>\n",
       "      <td>0.00000</td>\n",
       "    </tr>\n",
       "    <tr>\n",
       "      <th>5</th>\n",
       "      <td>6</td>\n",
       "      <td>HPVIVLTGPHEE</td>\n",
       "      <td>NaN</td>\n",
       "      <td>match</td>\n",
       "      <td>PVIVIT-Core</td>\n",
       "      <td>0.00000</td>\n",
       "      <td>0.10822</td>\n",
       "      <td>0.08449</td>\n",
       "    </tr>\n",
       "    <tr>\n",
       "      <th>6</th>\n",
       "      <td>7</td>\n",
       "      <td>IPVIVITGPHEE</td>\n",
       "      <td>NaN</td>\n",
       "      <td>match</td>\n",
       "      <td>PVIVIT-Flank</td>\n",
       "      <td>0.00000</td>\n",
       "      <td>0.10822</td>\n",
       "      <td>0.28960</td>\n",
       "    </tr>\n",
       "    <tr>\n",
       "      <th>7</th>\n",
       "      <td>8</td>\n",
       "      <td>HPVIVITGLHEE</td>\n",
       "      <td>NaN</td>\n",
       "      <td>match</td>\n",
       "      <td>PVIVIT-Flank</td>\n",
       "      <td>0.00000</td>\n",
       "      <td>0.10822</td>\n",
       "      <td>0.78752</td>\n",
       "    </tr>\n",
       "    <tr>\n",
       "      <th>8</th>\n",
       "      <td>9</td>\n",
       "      <td>HPVIVITMPHEE</td>\n",
       "      <td>NaN</td>\n",
       "      <td>match</td>\n",
       "      <td>PVIVIT-Flank</td>\n",
       "      <td>0.00000</td>\n",
       "      <td>0.25050</td>\n",
       "      <td>0.00000</td>\n",
       "    </tr>\n",
       "    <tr>\n",
       "      <th>9</th>\n",
       "      <td>10</td>\n",
       "      <td>HPKIVITGPHEE</td>\n",
       "      <td>NaN</td>\n",
       "      <td>match</td>\n",
       "      <td>PKIVIT-Core</td>\n",
       "      <td>0.00000</td>\n",
       "      <td>0.25050</td>\n",
       "      <td>0.08449</td>\n",
       "    </tr>\n",
       "    <tr>\n",
       "      <th>10</th>\n",
       "      <td>11</td>\n",
       "      <td>HPKIIITGPHEE</td>\n",
       "      <td>NaN</td>\n",
       "      <td>match</td>\n",
       "      <td>PKIVIT-Core</td>\n",
       "      <td>0.00000</td>\n",
       "      <td>0.25050</td>\n",
       "      <td>0.28960</td>\n",
       "    </tr>\n",
       "    <tr>\n",
       "      <th>11</th>\n",
       "      <td>12</td>\n",
       "      <td>HPKIVLTGPHEE</td>\n",
       "      <td>NaN</td>\n",
       "      <td>match</td>\n",
       "      <td>PKIVIT-Core</td>\n",
       "      <td>0.00000</td>\n",
       "      <td>0.43758</td>\n",
       "      <td>0.00000</td>\n",
       "    </tr>\n",
       "    <tr>\n",
       "      <th>12</th>\n",
       "      <td>13</td>\n",
       "      <td>HPKIVIQGPHEE</td>\n",
       "      <td>NaN</td>\n",
       "      <td>match</td>\n",
       "      <td>PKIVIT-Core</td>\n",
       "      <td>0.00000</td>\n",
       "      <td>0.43758</td>\n",
       "      <td>0.08449</td>\n",
       "    </tr>\n",
       "    <tr>\n",
       "      <th>13</th>\n",
       "      <td>14</td>\n",
       "      <td>IPKIVITGPHEE</td>\n",
       "      <td>NaN</td>\n",
       "      <td>match</td>\n",
       "      <td>PKIVIT-Flank</td>\n",
       "      <td>0.00000</td>\n",
       "      <td>0.43758</td>\n",
       "      <td>0.28960</td>\n",
       "    </tr>\n",
       "    <tr>\n",
       "      <th>14</th>\n",
       "      <td>15</td>\n",
       "      <td>TPKIVITGPHEE</td>\n",
       "      <td>NaN</td>\n",
       "      <td>match</td>\n",
       "      <td>PKIVIT-Flank</td>\n",
       "      <td>0.00000</td>\n",
       "      <td>0.68356</td>\n",
       "      <td>0.00000</td>\n",
       "    </tr>\n",
       "    <tr>\n",
       "      <th>15</th>\n",
       "      <td>16</td>\n",
       "      <td>HPKIVITTPHEE</td>\n",
       "      <td>NaN</td>\n",
       "      <td>match</td>\n",
       "      <td>PKIVIT-Flank</td>\n",
       "      <td>0.00000</td>\n",
       "      <td>0.68356</td>\n",
       "      <td>0.08449</td>\n",
       "    </tr>\n",
       "    <tr>\n",
       "      <th>16</th>\n",
       "      <td>17</td>\n",
       "      <td>HPKIVITNPHEE</td>\n",
       "      <td>NaN</td>\n",
       "      <td>match</td>\n",
       "      <td>PKIVIT-Flank</td>\n",
       "      <td>0.00000</td>\n",
       "      <td>0.68356</td>\n",
       "      <td>0.28960</td>\n",
       "    </tr>\n",
       "    <tr>\n",
       "      <th>17</th>\n",
       "      <td>18</td>\n",
       "      <td>IPKIIITYPGEE</td>\n",
       "      <td>NaN</td>\n",
       "      <td>jackpot</td>\n",
       "      <td>NaN</td>\n",
       "      <td>0.08155</td>\n",
       "      <td>0.00000</td>\n",
       "      <td>0.00000</td>\n",
       "    </tr>\n",
       "    <tr>\n",
       "      <th>18</th>\n",
       "      <td>19</td>\n",
       "      <td>VPKIIITYPGEE</td>\n",
       "      <td>NaN</td>\n",
       "      <td>jackpot</td>\n",
       "      <td>NaN</td>\n",
       "      <td>0.08155</td>\n",
       "      <td>0.00000</td>\n",
       "      <td>0.19141</td>\n",
       "    </tr>\n",
       "    <tr>\n",
       "      <th>19</th>\n",
       "      <td>20</td>\n",
       "      <td>IPKIIVTYPGEE</td>\n",
       "      <td>NaN</td>\n",
       "      <td>jackpot</td>\n",
       "      <td>NaN</td>\n",
       "      <td>0.08155</td>\n",
       "      <td>0.00000</td>\n",
       "      <td>0.65606</td>\n",
       "    </tr>\n",
       "    <tr>\n",
       "      <th>20</th>\n",
       "      <td>21</td>\n",
       "      <td>IPKIIVTYPDEE</td>\n",
       "      <td>NaN</td>\n",
       "      <td>jackpot</td>\n",
       "      <td>NaN</td>\n",
       "      <td>0.08155</td>\n",
       "      <td>0.10822</td>\n",
       "      <td>0.00000</td>\n",
       "    </tr>\n",
       "    <tr>\n",
       "      <th>21</th>\n",
       "      <td>22</td>\n",
       "      <td>HPVIVITGPZEE</td>\n",
       "      <td>NaN</td>\n",
       "      <td>match</td>\n",
       "      <td>PVIVIT-Flank</td>\n",
       "      <td>0.08155</td>\n",
       "      <td>0.10822</td>\n",
       "      <td>0.19141</td>\n",
       "    </tr>\n",
       "    <tr>\n",
       "      <th>22</th>\n",
       "      <td>23</td>\n",
       "      <td>IPRIIITKPZEE</td>\n",
       "      <td>NaN</td>\n",
       "      <td>jackpot</td>\n",
       "      <td>NaN</td>\n",
       "      <td>0.08155</td>\n",
       "      <td>0.10822</td>\n",
       "      <td>0.65606</td>\n",
       "    </tr>\n",
       "    <tr>\n",
       "      <th>23</th>\n",
       "      <td>24</td>\n",
       "      <td>IPKIIVTAPZEE</td>\n",
       "      <td>NaN</td>\n",
       "      <td>jackpot</td>\n",
       "      <td>NaN</td>\n",
       "      <td>0.08155</td>\n",
       "      <td>0.25050</td>\n",
       "      <td>0.00000</td>\n",
       "    </tr>\n",
       "    <tr>\n",
       "      <th>24</th>\n",
       "      <td>25</td>\n",
       "      <td>VPRIIITKPZEE</td>\n",
       "      <td>NaN</td>\n",
       "      <td>jackpot</td>\n",
       "      <td>NaN</td>\n",
       "      <td>0.08155</td>\n",
       "      <td>0.25050</td>\n",
       "      <td>0.19141</td>\n",
       "    </tr>\n",
       "    <tr>\n",
       "      <th>25</th>\n",
       "      <td>26</td>\n",
       "      <td>VPRIVITAPZEE</td>\n",
       "      <td>NaN</td>\n",
       "      <td>jackpot</td>\n",
       "      <td>NaN</td>\n",
       "      <td>0.08155</td>\n",
       "      <td>0.25050</td>\n",
       "      <td>0.65606</td>\n",
       "    </tr>\n",
       "    <tr>\n",
       "      <th>26</th>\n",
       "      <td>27</td>\n",
       "      <td>IPKIIITYPZEE</td>\n",
       "      <td>NaN</td>\n",
       "      <td>jackpot</td>\n",
       "      <td>NaN</td>\n",
       "      <td>0.08155</td>\n",
       "      <td>0.43758</td>\n",
       "      <td>0.00000</td>\n",
       "    </tr>\n",
       "    <tr>\n",
       "      <th>27</th>\n",
       "      <td>28</td>\n",
       "      <td>KRMEPIAIIITDTEIS</td>\n",
       "      <td>NaN</td>\n",
       "      <td>match</td>\n",
       "      <td>AKAP79-WT</td>\n",
       "      <td>0.08155</td>\n",
       "      <td>0.43758</td>\n",
       "      <td>0.19141</td>\n",
       "    </tr>\n",
       "    <tr>\n",
       "      <th>28</th>\n",
       "      <td>29</td>\n",
       "      <td>KRMEPIPIIITDTEIS</td>\n",
       "      <td>NaN</td>\n",
       "      <td>match</td>\n",
       "      <td>AKAP79-Core</td>\n",
       "      <td>0.08155</td>\n",
       "      <td>0.68356</td>\n",
       "      <td>0.00000</td>\n",
       "    </tr>\n",
       "    <tr>\n",
       "      <th>29</th>\n",
       "      <td>30</td>\n",
       "      <td>KRMEPPAIIITDTEIS</td>\n",
       "      <td>NaN</td>\n",
       "      <td>match</td>\n",
       "      <td>AKAP79-Core</td>\n",
       "      <td>0.08155</td>\n",
       "      <td>0.68356</td>\n",
       "      <td>0.19141</td>\n",
       "    </tr>\n",
       "    <tr>\n",
       "      <th>30</th>\n",
       "      <td>31</td>\n",
       "      <td>KRMEPIAIYITDTEIS</td>\n",
       "      <td>NaN</td>\n",
       "      <td>match</td>\n",
       "      <td>AKAP79-Core</td>\n",
       "      <td>0.20061</td>\n",
       "      <td>0.00000</td>\n",
       "      <td>0.00000</td>\n",
       "    </tr>\n",
       "    <tr>\n",
       "      <th>31</th>\n",
       "      <td>32</td>\n",
       "      <td>KRMEPIAIIITRTEIS</td>\n",
       "      <td>NaN</td>\n",
       "      <td>match</td>\n",
       "      <td>AKAP79-Flank</td>\n",
       "      <td>0.20061</td>\n",
       "      <td>0.00000</td>\n",
       "      <td>0.34751</td>\n",
       "    </tr>\n",
       "    <tr>\n",
       "      <th>32</th>\n",
       "      <td>33</td>\n",
       "      <td>KRMEPIAIIITKTEIS</td>\n",
       "      <td>NaN</td>\n",
       "      <td>match</td>\n",
       "      <td>AKAP79-Flank</td>\n",
       "      <td>0.20061</td>\n",
       "      <td>0.10822</td>\n",
       "      <td>0.00000</td>\n",
       "    </tr>\n",
       "    <tr>\n",
       "      <th>33</th>\n",
       "      <td>34</td>\n",
       "      <td>KRMEPIAIIITDTTIS</td>\n",
       "      <td>NaN</td>\n",
       "      <td>match</td>\n",
       "      <td>AKAP79-Flank</td>\n",
       "      <td>0.20061</td>\n",
       "      <td>0.10822</td>\n",
       "      <td>0.34751</td>\n",
       "    </tr>\n",
       "    <tr>\n",
       "      <th>34</th>\n",
       "      <td>35</td>\n",
       "      <td>KRMEPIAIIITDYEIS</td>\n",
       "      <td>NaN</td>\n",
       "      <td>match</td>\n",
       "      <td>AKAP79-Flank</td>\n",
       "      <td>0.20061</td>\n",
       "      <td>0.25050</td>\n",
       "      <td>0.00000</td>\n",
       "    </tr>\n",
       "    <tr>\n",
       "      <th>35</th>\n",
       "      <td>36</td>\n",
       "      <td>KRMEPPKIIITDTEIS</td>\n",
       "      <td>NaN</td>\n",
       "      <td>jackpot</td>\n",
       "      <td>NaN</td>\n",
       "      <td>0.20061</td>\n",
       "      <td>0.25050</td>\n",
       "      <td>0.34751</td>\n",
       "    </tr>\n",
       "    <tr>\n",
       "      <th>36</th>\n",
       "      <td>37</td>\n",
       "      <td>KRMEPPKIIITDTSIS</td>\n",
       "      <td>NaN</td>\n",
       "      <td>jackpot</td>\n",
       "      <td>NaN</td>\n",
       "      <td>0.20061</td>\n",
       "      <td>0.43758</td>\n",
       "      <td>0.00000</td>\n",
       "    </tr>\n",
       "    <tr>\n",
       "      <th>37</th>\n",
       "      <td>38</td>\n",
       "      <td>ASGLLPRIIITPPYEL</td>\n",
       "      <td>NaN</td>\n",
       "      <td>jackpot</td>\n",
       "      <td>NaN</td>\n",
       "      <td>0.20061</td>\n",
       "      <td>0.43758</td>\n",
       "      <td>0.34751</td>\n",
       "    </tr>\n",
       "    <tr>\n",
       "      <th>38</th>\n",
       "      <td>39</td>\n",
       "      <td>ASGLSPRIEITPSHEL</td>\n",
       "      <td>NaN</td>\n",
       "      <td>match</td>\n",
       "      <td>NFATc2-WT</td>\n",
       "      <td>0.20061</td>\n",
       "      <td>0.68356</td>\n",
       "      <td>0.00000</td>\n",
       "    </tr>\n",
       "    <tr>\n",
       "      <th>39</th>\n",
       "      <td>40</td>\n",
       "      <td>ASGLSPRILITPSHEL</td>\n",
       "      <td>NaN</td>\n",
       "      <td>match</td>\n",
       "      <td>NFATc2-Mutant</td>\n",
       "      <td>0.37445</td>\n",
       "      <td>0.00000</td>\n",
       "      <td>0.00000</td>\n",
       "    </tr>\n",
       "    <tr>\n",
       "      <th>40</th>\n",
       "      <td>41</td>\n",
       "      <td>ASGLSPRIAITPSHEL</td>\n",
       "      <td>NaN</td>\n",
       "      <td>match</td>\n",
       "      <td>NFATc2-Mutant</td>\n",
       "      <td>0.37445</td>\n",
       "      <td>0.00000</td>\n",
       "      <td>0.57542</td>\n",
       "    </tr>\n",
       "    <tr>\n",
       "      <th>41</th>\n",
       "      <td>42</td>\n",
       "      <td>ASGLSPRIEISPSHEL</td>\n",
       "      <td>NaN</td>\n",
       "      <td>match</td>\n",
       "      <td>NFATc2-Mutant</td>\n",
       "      <td>0.37445</td>\n",
       "      <td>0.10822</td>\n",
       "      <td>0.00000</td>\n",
       "    </tr>\n",
       "    <tr>\n",
       "      <th>42</th>\n",
       "      <td>43</td>\n",
       "      <td>ASGLSPRIEIFPSHEL</td>\n",
       "      <td>NaN</td>\n",
       "      <td>match</td>\n",
       "      <td>NFATc2-Mutant</td>\n",
       "      <td>0.37445</td>\n",
       "      <td>0.25050</td>\n",
       "      <td>0.00000</td>\n",
       "    </tr>\n",
       "    <tr>\n",
       "      <th>43</th>\n",
       "      <td>44</td>\n",
       "      <td>ASGLLPRIEITPSHEL</td>\n",
       "      <td>NaN</td>\n",
       "      <td>match</td>\n",
       "      <td>NFATc2-Mutant</td>\n",
       "      <td>0.37445</td>\n",
       "      <td>0.43758</td>\n",
       "      <td>0.00000</td>\n",
       "    </tr>\n",
       "    <tr>\n",
       "      <th>44</th>\n",
       "      <td>45</td>\n",
       "      <td>ASGLSPRIEITPFHEL</td>\n",
       "      <td>NaN</td>\n",
       "      <td>match</td>\n",
       "      <td>NFATc2-Mutant</td>\n",
       "      <td>0.62826</td>\n",
       "      <td>0.00000</td>\n",
       "      <td>0.00000</td>\n",
       "    </tr>\n",
       "    <tr>\n",
       "      <th>45</th>\n",
       "      <td>46</td>\n",
       "      <td>ASGLSPRIEITASHEL</td>\n",
       "      <td>NaN</td>\n",
       "      <td>match</td>\n",
       "      <td>NFATc2-Mutant</td>\n",
       "      <td>0.62826</td>\n",
       "      <td>0.10822</td>\n",
       "      <td>0.00000</td>\n",
       "    </tr>\n",
       "    <tr>\n",
       "      <th>46</th>\n",
       "      <td>47</td>\n",
       "      <td>ASGLSPRIEITPSSEL</td>\n",
       "      <td>NaN</td>\n",
       "      <td>match</td>\n",
       "      <td>NFATc2-Mutant</td>\n",
       "      <td>0.62826</td>\n",
       "      <td>0.25050</td>\n",
       "      <td>0.00000</td>\n",
       "    </tr>\n",
       "    <tr>\n",
       "      <th>47</th>\n",
       "      <td>48</td>\n",
       "      <td>ASGLLPRIEITPPPEL</td>\n",
       "      <td>NaN</td>\n",
       "      <td>jackpot</td>\n",
       "      <td>NaN</td>\n",
       "      <td>0.99882</td>\n",
       "      <td>0.00000</td>\n",
       "      <td>0.00000</td>\n",
       "    </tr>\n",
       "  </tbody>\n",
       "</table>\n",
       "</div>"
      ],
      "text/plain": [
       "    code          sequence  repeat      set           info       Dy       Sm  \\\n",
       "0      1   AGIVPIHVTHAPGEE     NaN    match       Scramble  0.00000  0.00000   \n",
       "1      2      HPVIVITGPHEE     NaN    match      PVIVIT-WT  0.00000  0.00000   \n",
       "2      3      HPRIVITGPHEE     NaN    match    PVIVIT-Core  0.00000  0.00000   \n",
       "3      4      HPLIVITGPHEE     NaN    match    PVIVIT-Core  0.00000  0.00000   \n",
       "4      5      HPVIVIEGPHEE     NaN    match    PVIVIT-Core  0.00000  0.10822   \n",
       "5      6      HPVIVLTGPHEE     NaN    match    PVIVIT-Core  0.00000  0.10822   \n",
       "6      7      IPVIVITGPHEE     NaN    match   PVIVIT-Flank  0.00000  0.10822   \n",
       "7      8      HPVIVITGLHEE     NaN    match   PVIVIT-Flank  0.00000  0.10822   \n",
       "8      9      HPVIVITMPHEE     NaN    match   PVIVIT-Flank  0.00000  0.25050   \n",
       "9     10      HPKIVITGPHEE     NaN    match    PKIVIT-Core  0.00000  0.25050   \n",
       "10    11      HPKIIITGPHEE     NaN    match    PKIVIT-Core  0.00000  0.25050   \n",
       "11    12      HPKIVLTGPHEE     NaN    match    PKIVIT-Core  0.00000  0.43758   \n",
       "12    13      HPKIVIQGPHEE     NaN    match    PKIVIT-Core  0.00000  0.43758   \n",
       "13    14      IPKIVITGPHEE     NaN    match   PKIVIT-Flank  0.00000  0.43758   \n",
       "14    15      TPKIVITGPHEE     NaN    match   PKIVIT-Flank  0.00000  0.68356   \n",
       "15    16      HPKIVITTPHEE     NaN    match   PKIVIT-Flank  0.00000  0.68356   \n",
       "16    17      HPKIVITNPHEE     NaN    match   PKIVIT-Flank  0.00000  0.68356   \n",
       "17    18      IPKIIITYPGEE     NaN  jackpot            NaN  0.08155  0.00000   \n",
       "18    19      VPKIIITYPGEE     NaN  jackpot            NaN  0.08155  0.00000   \n",
       "19    20      IPKIIVTYPGEE     NaN  jackpot            NaN  0.08155  0.00000   \n",
       "20    21      IPKIIVTYPDEE     NaN  jackpot            NaN  0.08155  0.10822   \n",
       "21    22      HPVIVITGPZEE     NaN    match   PVIVIT-Flank  0.08155  0.10822   \n",
       "22    23      IPRIIITKPZEE     NaN  jackpot            NaN  0.08155  0.10822   \n",
       "23    24      IPKIIVTAPZEE     NaN  jackpot            NaN  0.08155  0.25050   \n",
       "24    25      VPRIIITKPZEE     NaN  jackpot            NaN  0.08155  0.25050   \n",
       "25    26      VPRIVITAPZEE     NaN  jackpot            NaN  0.08155  0.25050   \n",
       "26    27      IPKIIITYPZEE     NaN  jackpot            NaN  0.08155  0.43758   \n",
       "27    28  KRMEPIAIIITDTEIS     NaN    match      AKAP79-WT  0.08155  0.43758   \n",
       "28    29  KRMEPIPIIITDTEIS     NaN    match    AKAP79-Core  0.08155  0.68356   \n",
       "29    30  KRMEPPAIIITDTEIS     NaN    match    AKAP79-Core  0.08155  0.68356   \n",
       "30    31  KRMEPIAIYITDTEIS     NaN    match    AKAP79-Core  0.20061  0.00000   \n",
       "31    32  KRMEPIAIIITRTEIS     NaN    match   AKAP79-Flank  0.20061  0.00000   \n",
       "32    33  KRMEPIAIIITKTEIS     NaN    match   AKAP79-Flank  0.20061  0.10822   \n",
       "33    34  KRMEPIAIIITDTTIS     NaN    match   AKAP79-Flank  0.20061  0.10822   \n",
       "34    35  KRMEPIAIIITDYEIS     NaN    match   AKAP79-Flank  0.20061  0.25050   \n",
       "35    36  KRMEPPKIIITDTEIS     NaN  jackpot            NaN  0.20061  0.25050   \n",
       "36    37  KRMEPPKIIITDTSIS     NaN  jackpot            NaN  0.20061  0.43758   \n",
       "37    38  ASGLLPRIIITPPYEL     NaN  jackpot            NaN  0.20061  0.43758   \n",
       "38    39  ASGLSPRIEITPSHEL     NaN    match      NFATc2-WT  0.20061  0.68356   \n",
       "39    40  ASGLSPRILITPSHEL     NaN    match  NFATc2-Mutant  0.37445  0.00000   \n",
       "40    41  ASGLSPRIAITPSHEL     NaN    match  NFATc2-Mutant  0.37445  0.00000   \n",
       "41    42  ASGLSPRIEISPSHEL     NaN    match  NFATc2-Mutant  0.37445  0.10822   \n",
       "42    43  ASGLSPRIEIFPSHEL     NaN    match  NFATc2-Mutant  0.37445  0.25050   \n",
       "43    44  ASGLLPRIEITPSHEL     NaN    match  NFATc2-Mutant  0.37445  0.43758   \n",
       "44    45  ASGLSPRIEITPFHEL     NaN    match  NFATc2-Mutant  0.62826  0.00000   \n",
       "45    46  ASGLSPRIEITASHEL     NaN    match  NFATc2-Mutant  0.62826  0.10822   \n",
       "46    47  ASGLSPRIEITPSSEL     NaN    match  NFATc2-Mutant  0.62826  0.25050   \n",
       "47    48  ASGLLPRIEITPPPEL     NaN  jackpot            NaN  0.99882  0.00000   \n",
       "\n",
       "         Tm  \n",
       "0   0.00000  \n",
       "1   0.08449  \n",
       "2   0.28960  \n",
       "3   0.78752  \n",
       "4   0.00000  \n",
       "5   0.08449  \n",
       "6   0.28960  \n",
       "7   0.78752  \n",
       "8   0.00000  \n",
       "9   0.08449  \n",
       "10  0.28960  \n",
       "11  0.00000  \n",
       "12  0.08449  \n",
       "13  0.28960  \n",
       "14  0.00000  \n",
       "15  0.08449  \n",
       "16  0.28960  \n",
       "17  0.00000  \n",
       "18  0.19141  \n",
       "19  0.65606  \n",
       "20  0.00000  \n",
       "21  0.19141  \n",
       "22  0.65606  \n",
       "23  0.00000  \n",
       "24  0.19141  \n",
       "25  0.65606  \n",
       "26  0.00000  \n",
       "27  0.19141  \n",
       "28  0.00000  \n",
       "29  0.19141  \n",
       "30  0.00000  \n",
       "31  0.34751  \n",
       "32  0.00000  \n",
       "33  0.34751  \n",
       "34  0.00000  \n",
       "35  0.34751  \n",
       "36  0.00000  \n",
       "37  0.34751  \n",
       "38  0.00000  \n",
       "39  0.00000  \n",
       "40  0.57542  \n",
       "41  0.00000  \n",
       "42  0.00000  \n",
       "43  0.00000  \n",
       "44  0.00000  \n",
       "45  0.00000  \n",
       "46  0.00000  \n",
       "47  0.00000  "
      ]
     },
     "execution_count": 6,
     "metadata": {},
     "output_type": "execute_result"
    }
   ],
   "source": [
    "mrbles_library_info"
   ]
  },
  {
   "cell_type": "markdown",
   "metadata": {},
   "source": [
    "## Load sample images using: 'mbrles.Images'"
   ]
  },
  {
   "cell_type": "markdown",
   "metadata": {},
   "source": [
    "Load the folder paths and filenames."
   ]
  },
  {
   "cell_type": "code",
   "execution_count": 7,
   "metadata": {},
   "outputs": [
    {
     "name": "stdout",
     "output_type": "stream",
     "text": [
      "Found 10 files in Set A\n",
      "Found 10 files in Set B\n"
     ]
    }
   ],
   "source": [
    "image_folders = {'Set A': package_path,\n",
    "                 'Set B': package_path\n",
    "}\n",
    "\n",
    "image_patterns = {\"Set A\" : \"peptide_biotin_streptavidin_.*.tif\",\n",
    "                  \"Set B\" : r\"peptide_biotin_streptavidin_([0-9]|[0-9][0-9])_MMStack_Pos0.ome.tif\"\n",
    "}\n",
    "\n",
    "flat_field_image = package_path + \"\\\\20180328-FF-Cy5-E-81im-BIN2.tif\"\n",
    "\n",
    "mrbles_images = mrbles.Images(folders=image_folders, file_patterns=image_patterns)"
   ]
  },
  {
   "cell_type": "markdown",
   "metadata": {},
   "source": [
    "Load images in memory."
   ]
  },
  {
   "cell_type": "code",
   "execution_count": 8,
   "metadata": {},
   "outputs": [],
   "source": [
    "mrbles_images.load()"
   ]
  },
  {
   "cell_type": "markdown",
   "metadata": {},
   "source": [
    "By calling the `mrbles_images` object you can see the dataframe."
   ]
  },
  {
   "cell_type": "code",
   "execution_count": 9,
   "metadata": {
    "scrolled": true
   },
   "outputs": [
    {
     "data": {
      "text/plain": [
       "{'Set A': <xarray.DataArray (f: 10, c: 11, y: 1024, x: 1024)>\n",
       "array([[[[130, ..., 132],\n",
       "         ...,\n",
       "         [135, ..., 942]],\n",
       "\n",
       "        ...,\n",
       "\n",
       "        [[ 98, ..., 104],\n",
       "         ...,\n",
       "         [ 93, ...,  90]]],\n",
       "\n",
       "\n",
       "       ...,\n",
       "\n",
       "\n",
       "       [[[121, ..., 132],\n",
       "         ...,\n",
       "         [128, ..., 136]],\n",
       "\n",
       "        ...,\n",
       "\n",
       "        [[116, ...,  81],\n",
       "         ...,\n",
       "         [103, ..., 117]]]], dtype=uint16)\n",
       "Coordinates:\n",
       "  * c        (c) <U11 'Cy5_5%' 'Brightfield' 'l-435' 'l-474' 'l-536' 'l-546' ...\n",
       "Dimensions without coordinates: f, y, x, 'Set B': <xarray.DataArray (f: 10, c: 11, y: 1024, x: 1024)>\n",
       "array([[[[130, ..., 132],\n",
       "         ...,\n",
       "         [135, ..., 942]],\n",
       "\n",
       "        ...,\n",
       "\n",
       "        [[ 98, ..., 104],\n",
       "         ...,\n",
       "         [ 93, ...,  90]]],\n",
       "\n",
       "\n",
       "       ...,\n",
       "\n",
       "\n",
       "       [[[121, ..., 132],\n",
       "         ...,\n",
       "         [128, ..., 136]],\n",
       "\n",
       "        ...,\n",
       "\n",
       "        [[116, ...,  81],\n",
       "         ...,\n",
       "         [103, ..., 117]]]], dtype=uint16)\n",
       "Coordinates:\n",
       "  * c        (c) <U11 'Cy5_5%' 'Brightfield' 'l-435' 'l-474' 'l-536' 'l-546' ...\n",
       "Dimensions without coordinates: f, y, x}"
      ]
     },
     "execution_count": 9,
     "metadata": {},
     "output_type": "execute_result"
    }
   ],
   "source": [
    "mrbles_images"
   ]
  },
  {
   "cell_type": "markdown",
   "metadata": {},
   "source": [
    "Rename channels, if desired."
   ]
  },
  {
   "cell_type": "code",
   "execution_count": 10,
   "metadata": {},
   "outputs": [],
   "source": [
    "mrbles_images.rename_channel('Cy5_5%', 'Cy5')"
   ]
  },
  {
   "cell_type": "markdown",
   "metadata": {},
   "source": [
    "Check channel names by selecting one of the image sets and add `.c`"
   ]
  },
  {
   "cell_type": "code",
   "execution_count": 11,
   "metadata": {},
   "outputs": [
    {
     "data": {
      "text/plain": [
       "<xarray.DataArray 'c' (c: 11)>\n",
       "array(['Cy5', 'Brightfield', 'l-435', 'l-474', 'l-536', 'l-546', 'l-572',\n",
       "       'l-620', 'l-630', 'l-650', 'l-780'], dtype='<U11')\n",
       "Coordinates:\n",
       "  * c        (c) <U11 'Cy5' 'Brightfield' 'l-435' 'l-474' 'l-536' 'l-546' ..."
      ]
     },
     "execution_count": 11,
     "metadata": {},
     "output_type": "execute_result"
    }
   ],
   "source": [
    "mrbles_images['Set A'].c"
   ]
  },
  {
   "cell_type": "markdown",
   "metadata": {},
   "source": [
    "You can access an individual images like this:"
   ]
  },
  {
   "cell_type": "markdown",
   "metadata": {},
   "source": [
    "Apply flat-field correction, if desired."
   ]
  },
  {
   "cell_type": "code",
   "execution_count": null,
   "metadata": {},
   "outputs": [],
   "source": [
    "mrbles_images.flat_field(flat_field_image, 'Cy5')"
   ]
  },
  {
   "cell_type": "code",
   "execution_count": null,
   "metadata": {},
   "outputs": [],
   "source": [
    "mrbles_images['Set A', 3, 'Cy5']"
   ]
  },
  {
   "cell_type": "code",
   "execution_count": null,
   "metadata": {},
   "outputs": [],
   "source": [
    "fig = plt.figure(dpi=150)\n",
    "plt.axis('off')\n",
    "plt.imshow(mrbles_images['Set A', 1, 'Brightfield']);"
   ]
  },
  {
   "cell_type": "markdown",
   "metadata": {},
   "source": [
    "Crop images to select an ROI, and/or to save memory in subsequent steps. ROI can changed multiple, since full images stay loaded inside object."
   ]
  },
  {
   "cell_type": "code",
   "execution_count": null,
   "metadata": {},
   "outputs": [],
   "source": [
    "mrbles_images.crop_x = slice(80, 900)\n",
    "mrbles_images.crop_y = slice(80, 900)"
   ]
  },
  {
   "cell_type": "code",
   "execution_count": null,
   "metadata": {},
   "outputs": [],
   "source": [
    "fig = plt.figure(dpi=150)\n",
    "plt.axis('off')\n",
    "plt.imshow(mrbles_images['Set A', 1, 'Brightfield']);"
   ]
  },
  {
   "cell_type": "markdown",
   "metadata": {},
   "source": [
    "## Find MRBLEs in brigh-field images usin `mrbles.Find`"
   ]
  },
  {
   "cell_type": "markdown",
   "metadata": {},
   "source": [
    "Only use `find_mrbles.settings.parallelize = True` on workstations with multiple CPU cores (>4), otherwise there is no performance gain. It also uses way more memory since it has spawn multiple Python instances."
   ]
  },
  {
   "cell_type": "code",
   "execution_count": null,
   "metadata": {},
   "outputs": [],
   "source": [
    "find_mrbles = mrbles.Find(bead_size=18, pixel_size = 3.5, border_clear=True, circle_size=350)\n",
    "find_mrbles.settings.parallelize = True"
   ]
  },
  {
   "cell_type": "markdown",
   "metadata": {},
   "source": [
    "`find_mrbles.settings` is for internal settings. They all have a default setting, which should work in most cases. If necessary this can be tuned, however. Use `find_mrbles.settings` and then TAB to see a list of options.\n",
    "\n",
    "Adaptive threshold imaging settings:  \n",
    "`find_mrbles.settings.thr_block`: The scanning block size.  \n",
    "`find_mrbles.settings.thr_c`: The leniency.  \n",
    "Please see link for infomation: https://docs.opencv.org/3.4.0/d7/d4d/tutorial_py_thresholding.html  \n",
    "Use `find_mrbles.settings.img2bin()` for parameter testing. \n",
    "\n",
    "Filtering settings (default values are based on parameter `bead_size`, and therefore in pixels):  \n",
    "`find_mrbles.settings.area_min`: Minimum area. Default: area x 0.5.  \n",
    "`find_mrbles.settings.area_max`: Maximum area. Default: area x 1.5.  \n",
    "`find_mrbles.settings.eccen_max`: Maximum eccentricity (0 being most circle, 1 being least circle). Default: 0.65.\n",
    "\n",
    "These attributes can be read by calling:  \n",
    "`find_mrbles.settings.area_min` "
   ]
  },
  {
   "cell_type": "code",
   "execution_count": null,
   "metadata": {},
   "outputs": [],
   "source": [
    "find_mrbles.settings.area_min"
   ]
  },
  {
   "cell_type": "markdown",
   "metadata": {},
   "source": [
    "These attributes can be read by calling:  \n",
    "`find_mrbles.settings.area_min = 60` "
   ]
  },
  {
   "cell_type": "code",
   "execution_count": null,
   "metadata": {},
   "outputs": [],
   "source": [
    "find_mrbles.find(mrbles_images[:, : , 'Brightfield'])"
   ]
  },
  {
   "cell_type": "markdown",
   "metadata": {},
   "source": [
    "Show the final beads found and their dimenions: "
   ]
  },
  {
   "cell_type": "code",
   "execution_count": null,
   "metadata": {},
   "outputs": [],
   "source": [
    "find_mrbles.bead_dims"
   ]
  },
  {
   "cell_type": "markdown",
   "metadata": {},
   "source": [
    "Example dimensions plot."
   ]
  },
  {
   "cell_type": "code",
   "execution_count": null,
   "metadata": {},
   "outputs": [],
   "source": [
    "fig = plt.figure(dpi=150)\n",
    "b_std = find_mrbles.bead_dims.diameter_conv.std()\n",
    "b_mean = find_mrbles.bead_dims.diameter_conv.mean()\n",
    "x_left = b_mean - (5*b_std)\n",
    "x_right = b_mean + (5*b_std)\n",
    "ax = find_mrbles.bead_dims.diameter_conv.plot(kind='hist', bins=100, color='lightgray').set_xlim(left=x_left, right=x_right)\n",
    "find_mrbles.bead_dims.diameter_conv.plot(kind='kde', secondary_y=True, color='black', alpha=0.7).set_ylim(bottom=0)"
   ]
  },
  {
   "cell_type": "markdown",
   "metadata": {},
   "source": [
    "Plot displaying bright-field image depicting found MRBLEs (crosses)."
   ]
  },
  {
   "cell_type": "code",
   "execution_count": null,
   "metadata": {},
   "outputs": [],
   "source": [
    "fig = plt.figure(dpi=300)\n",
    "plt.axis('off')\n",
    "plt.tight_layout()\n",
    "plt.imshow(find_mrbles['Set A', 0, 'mask_check']);"
   ]
  },
  {
   "cell_type": "markdown",
   "metadata": {},
   "source": [
    "## Create reference spectra using: `mblres.References`"
   ]
  },
  {
   "cell_type": "markdown",
   "metadata": {},
   "source": [
    "Load all references and add background `bkg` image from the data-set to be invastigated. Choose region where there are no beads"
   ]
  },
  {
   "cell_type": "code",
   "execution_count": null,
   "metadata": {},
   "outputs": [],
   "source": [
    "# Channel settings\n",
    "DECODE_CHANNELS = slice('l-435','l-780')  # Channel range for decoding\n",
    "OBJECT_CHANNEL = 'Brightfield'  # Channel for bead finding\n",
    "\n",
    "# Reference files\n",
    "REF_FOLDER = {\n",
    "    \"Dy\": package_path,\n",
    "    \"Sm\": package_path,\n",
    "    \"Tm\": package_path,\n",
    "    \"Eu\": package_path,\n",
    "    \"bkg\": package_path\n",
    "}\n",
    "\n",
    "REF_FILES = {\"Dy\" : \"Dy_Solos_3_MMStack_Pos0.ome.tif\",\n",
    "             \"Sm\" : \"Sm_solos_5_MMStack_Pos0.ome.tif\",\n",
    "             \"Tm\" : \"Tm_solos_3_MMStack_Pos0.ome.tif\",\n",
    "             \"Eu\" : \"Eu_solos_6_MMStack_Pos0.ome.tif\",\n",
    "             \"bkg\" : \"peptide_biotin_streptavidin_01_MMStack_Pos0.ome.tif\"  # Always change this!\n",
    "}"
   ]
  },
  {
   "cell_type": "code",
   "execution_count": null,
   "metadata": {},
   "outputs": [],
   "source": [
    "spec_object = mrbles.References(REF_FOLDER, REF_FILES, OBJECT_CHANNEL, DECODE_CHANNELS, bead_size=18)\n",
    "spec_object.crop_x = slice(262, 762)\n",
    "spec_object.crop_y = slice(262, 762)\n",
    "spec_object.bkg_roi = [slice(388, 542), slice(440, 620)]"
   ]
  },
  {
   "cell_type": "markdown",
   "metadata": {},
   "source": [
    "Load files and generate reference spectra."
   ]
  },
  {
   "cell_type": "code",
   "execution_count": null,
   "metadata": {
    "scrolled": false
   },
   "outputs": [],
   "source": [
    "spec_object.load()"
   ]
  },
  {
   "cell_type": "markdown",
   "metadata": {},
   "source": [
    "Display and plot data."
   ]
  },
  {
   "cell_type": "code",
   "execution_count": null,
   "metadata": {},
   "outputs": [],
   "source": [
    "spec_object.data"
   ]
  },
  {
   "cell_type": "code",
   "execution_count": null,
   "metadata": {},
   "outputs": [],
   "source": [
    "spec_object.plot()"
   ]
  },
  {
   "cell_type": "markdown",
   "metadata": {},
   "source": [
    "## Generate spectral unmixed images and ratio images using: `mrbles.Ratio`"
   ]
  },
  {
   "cell_type": "code",
   "execution_count": null,
   "metadata": {},
   "outputs": [],
   "source": [
    "ratio_images = mrbles.Ratio(spec_object)"
   ]
  },
  {
   "cell_type": "code",
   "execution_count": null,
   "metadata": {},
   "outputs": [],
   "source": [
    "ratio_images.get(mrbles_images[:, :, DECODE_CHANNELS], 'Eu',  combine_data=mrbles_images[:, :, ['Cy5_FF']])"
   ]
  },
  {
   "cell_type": "markdown",
   "metadata": {},
   "source": [
    "See channels generated in `ratio_images` object:"
   ]
  },
  {
   "cell_type": "code",
   "execution_count": null,
   "metadata": {},
   "outputs": [],
   "source": [
    "ratio_images['Set A'].c.values.tolist()"
   ]
  },
  {
   "cell_type": "markdown",
   "metadata": {},
   "source": [
    "Check inmixed images. Checking `Tm` and `bkg` since they share similar peak at 780 nm. If unmixing is not working properly it should show in the images."
   ]
  },
  {
   "cell_type": "code",
   "execution_count": null,
   "metadata": {},
   "outputs": [],
   "source": [
    "fig = plt.figure(dpi=150)\n",
    "plt.axis('off')\n",
    "plt.imshow(ratio_images['Set A', 1, 'bkg']);"
   ]
  },
  {
   "cell_type": "code",
   "execution_count": null,
   "metadata": {},
   "outputs": [],
   "source": [
    "fig = plt.figure(dpi=150)\n",
    "plt.axis('off')\n",
    "plt.imshow(ratio_images['Set A', 1, 'Tm']);"
   ]
  },
  {
   "cell_type": "markdown",
   "metadata": {},
   "source": [
    "## Extract data from each MRBLE using: `mrbles.Extract`"
   ]
  },
  {
   "cell_type": "markdown",
   "metadata": {},
   "source": [
    "This is the step to use the masks from bead finding and select all channels you want the intensities to be extracted using and select which masks."
   ]
  },
  {
   "cell_type": "code",
   "execution_count": null,
   "metadata": {},
   "outputs": [],
   "source": [
    "extract_data = mrbles.Extract()"
   ]
  },
  {
   "cell_type": "markdown",
   "metadata": {},
   "source": [
    "Select ratio images (for decoding), `Eu` and `bkg` (for filtering), and assay channels (e.g. Cy5). combine_data with bead dimensions."
   ]
  },
  {
   "cell_type": "code",
   "execution_count": null,
   "metadata": {},
   "outputs": [],
   "source": [
    "extract_data.get(ratio_images[:, :, ['Dy_ratio', 'Sm_ratio', 'Tm_ratio', 'bkg', 'Eu', 'Cy5_FF']], \n",
    "                 find_mrbles[:, :, ['mask_ring', 'mask_inside', 'mask_full', 'mask_bkg']],\n",
    "                 combine_data=find_mrbles.bead_dims)"
   ]
  },
  {
   "cell_type": "code",
   "execution_count": null,
   "metadata": {},
   "outputs": [],
   "source": [
    "extract_data.filter()"
   ]
  },
  {
   "cell_type": "code",
   "execution_count": null,
   "metadata": {},
   "outputs": [],
   "source": [
    "extract_data.data"
   ]
  },
  {
   "cell_type": "markdown",
   "metadata": {},
   "source": [
    "## Decode MRBLEs using: `mrbles.Decode`"
   ]
  },
  {
   "cell_type": "markdown",
   "metadata": {},
   "source": [
    "Set up the decode part of the pipeline. Give it the targets as first parameter (only the targets!), and optionally the additional MRBLEs library information."
   ]
  },
  {
   "cell_type": "code",
   "execution_count": null,
   "metadata": {},
   "outputs": [],
   "source": [
    "mrbles_decode = mrbles.Decode(mrbles_library_info.loc[:, ['Dy', 'Sm', 'Tm']], seq_list=mrbles_library_info)"
   ]
  },
  {
   "cell_type": "code",
   "execution_count": null,
   "metadata": {},
   "outputs": [],
   "source": [
    "mrbles_decode.decode(extract_data.data.loc[:,('Dy_ratio.mask_inside', 'Sm_ratio.mask_inside', 'Tm_ratio.mask_inside')], \n",
    "                     combine_data=extract_data.data)"
   ]
  },
  {
   "cell_type": "markdown",
   "metadata": {},
   "source": [
    "Print codes and plot ratio data."
   ]
  },
  {
   "cell_type": "code",
   "execution_count": null,
   "metadata": {},
   "outputs": [],
   "source": [
    "mrbles_decode.data"
   ]
  },
  {
   "cell_type": "code",
   "execution_count": null,
   "metadata": {},
   "outputs": [],
   "source": [
    "mrbles_decode.plot_clusters_3D()"
   ]
  },
  {
   "cell_type": "markdown",
   "metadata": {},
   "source": [
    "Filtered by confidence."
   ]
  },
  {
   "cell_type": "code",
   "execution_count": null,
   "metadata": {},
   "outputs": [],
   "source": [
    "mrbles_decode.plot_clusters_3D(confidence=0.95)"
   ]
  }
 ],
 "metadata": {
  "kernelspec": {
   "display_name": "Bead_Analysis-zAy6Vl3A",
   "language": "python",
   "name": "bead_analysis-zay6vl3a"
  }
 },
 "nbformat": 4,
 "nbformat_minor": 2
}
